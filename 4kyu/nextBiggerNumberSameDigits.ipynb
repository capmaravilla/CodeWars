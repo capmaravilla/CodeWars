{
 "cells": [
  {
   "cell_type": "markdown",
   "id": "4b0dee38",
   "metadata": {},
   "source": [
    "### Next bigger number with the same digits - 4kyu\n",
    "https://www.codewars.com/kata/55983863da40caa2c900004e\n",
    "***\n"
   ]
  },
  {
   "cell_type": "code",
   "execution_count": null,
   "id": "5beefa73",
   "metadata": {},
   "outputs": [
    {
     "name": "stdout",
     "output_type": "stream",
     "text": [
      "0 0\n",
      "1 2\n",
      "2 9\n",
      "3 8\n",
      "4 6\n",
      "5 5\n",
      "6 7\n",
      "[3, 4, 5]\n"
     ]
    }
   ],
   "source": [
    "def next_bigger(n):\n",
    "    sample = [int(d) for d in str(n)]\n",
    "    for idx, val in enumerate(sample[::-1]):\n",
    "        if sample[idx] < sample[idx + 1]:\n",
    "            print(sample[idx])\n",
    "\n",
    "\n",
    "next_bigger(7568920)\n",
    "\n",
    "num = [1, 2, 3, 4, 5]\n",
    "print(num[2:])"
   ]
  }
 ],
 "metadata": {
  "kernelspec": {
   "display_name": "codewars",
   "language": "python",
   "name": "python3"
  },
  "language_info": {
   "codemirror_mode": {
    "name": "ipython",
    "version": 3
   },
   "file_extension": ".py",
   "mimetype": "text/x-python",
   "name": "python",
   "nbconvert_exporter": "python",
   "pygments_lexer": "ipython3",
   "version": "3.13.4"
  }
 },
 "nbformat": 4,
 "nbformat_minor": 5
}
