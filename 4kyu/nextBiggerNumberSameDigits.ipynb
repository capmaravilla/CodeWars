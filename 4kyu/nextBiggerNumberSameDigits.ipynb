{
 "cells": [
  {
   "cell_type": "markdown",
   "id": "4b0dee38",
   "metadata": {},
   "source": [
    "### Next bigger number with the same digits - 4kyu\n",
    "https://www.codewars.com/kata/55983863da40caa2c900004e\n",
    "***\n"
   ]
  },
  {
   "cell_type": "code",
   "execution_count": null,
   "id": "5beefa73",
   "metadata": {},
   "outputs": [
    {
     "name": "stdout",
     "output_type": "stream",
     "text": [
      "41635\n"
     ]
    }
   ],
   "source": [
    "def next_bigger(n):\n",
    "    sample = [int(d) for d in str(n)]\n",
    "    for idx, val in enumerate(sample):\n",
    "        t = len(sample) - idx - 1\n",
    "        rang = \"\".join(str(num) for num in sample[t:])\n",
    "        rangMax = \"\".join(str(num) for num in sorted(sample[t:], reverse=True))\n",
    "        pre = \"\".join(str(num) for num in sample[0:t])\n",
    "        if rangMax > rang:\n",
    "            x = rang[0:1]\n",
    "            suf = sorted(rang)\n",
    "            uni = sorted(set(rang))\n",
    "            el = uni.index(x)\n",
    "            mid = uni[el + 1]\n",
    "            suf.remove(mid)\n",
    "            return f\"{pre}{mid}{''.join(suf)}\"\n",
    "\n",
    "\n",
    "print(next_bigger(41563))"
   ]
  },
  {
   "cell_type": "code",
   "execution_count": null,
   "id": "b8f62c88",
   "metadata": {},
   "outputs": [
    {
     "name": "stdout",
     "output_type": "stream",
     "text": [
      "[4, 1, 5, 6, 3]\n",
      "41635\n"
     ]
    }
   ],
   "source": [
    "def next_bigger1(n):\n",
    "    digits = list(map(int, str(n)))\n",
    "    print(digits)\n",
    "    i = len(digits) - 2\n",
    "    while i >= 0 and digits[i] >= digits[i + 1]:\n",
    "        i -= 1\n",
    "    if i == -1:\n",
    "        return -1  # No hay mayor posible\n",
    "    j = len(digits) - 1\n",
    "    while digits[j] <= digits[i]:\n",
    "        j -= 1\n",
    "    digits[i], digits[j] = digits[j], digits[i]\n",
    "    digits[i + 1 :] = sorted(digits[i + 1 :])\n",
    "    return int(\"\".join(map(str, digits)))\n"
   ]
  },
  {
   "cell_type": "code",
   "execution_count": null,
   "id": "4a8b7fcc",
   "metadata": {},
   "outputs": [],
   "source": [
    "def next_bigger2(n):\n",
    "    digits = list(str(n))\n",
    "    print(digits)\n",
    "    i = len(digits) - 2\n",
    "    print(i)\n",
    "    # Paso 1: buscar el primer dígito menor que su siguiente por la derecha\n",
    "    while i >= 0 and digits[i] >= digits[i + 1]:\n",
    "        i -= 1\n",
    "    if i == -1:\n",
    "        return -1  # No hay un número mayor posible\n",
    "    # Paso 2: buscar el menor dígito mayor a digits[i] a la derecha\n",
    "    j = len(digits) - 1\n",
    "    while digits[j] <= digits[i]:\n",
    "        j -= 1\n",
    "    # Paso 3: intercambiar\n",
    "    digits[i], digits[j] = digits[j], digits[i]\n",
    "    # Paso 4: ordenar los dígitos a la derecha de i\n",
    "    digits[i + 1 :] = sorted(digits[i + 1 :])\n",
    "    return int(\"\".join(digits))"
   ]
  },
  {
   "cell_type": "code",
   "execution_count": null,
   "id": "865f116f",
   "metadata": {},
   "outputs": [
    {
     "name": "stdout",
     "output_type": "stream",
     "text": [
      "564\n"
     ]
    }
   ],
   "source": [
    "def next_bigger3(n):\n",
    "    s = list(str(n))\n",
    "    for i in range(len(s) - 2, -1, -1):\n",
    "        if s[i] < s[i + 1]:\n",
    "            t = s[i:]\n",
    "            m = min(filter(lambda x: x > t[0], t))\n",
    "            t.remove(m)\n",
    "            t.sort()\n",
    "            s[i:] = [m] + t\n",
    "            return int(\"\".join(s))\n",
    "    return -1\n",
    "\n",
    "\n",
    "print(next_bigger3(546))"
   ]
  },
  {
   "cell_type": "code",
   "execution_count": null,
   "id": "125dcc7f",
   "metadata": {},
   "outputs": [],
   "source": [
    "def next_bigger4(n):\n",
    "    # algorithm: go backwards through the digits\n",
    "    # when we find one that's lower than any of those behind it,\n",
    "    # replace it with the lowest digit behind that's still higher than it\n",
    "    # sort the remaining ones ascending and add them to the end\n",
    "    digits = list(str(n))\n",
    "    for pos, d in reversed(tuple(enumerate(digits))):\n",
    "        right_side = digits[pos:]\n",
    "        if d < max(right_side):\n",
    "            # find lowest digit to the right that's still higher than d\n",
    "            first_d, first_pos = min((v, p) for p, v in enumerate(right_side) if v > d)\n",
    "\n",
    "            del right_side[first_pos]\n",
    "            digits[pos:] = [first_d] + sorted(right_side)\n",
    "\n",
    "            return int(\"\".join(digits))\n",
    "\n",
    "    return -1"
   ]
  }
 ],
 "metadata": {
  "kernelspec": {
   "display_name": "codewars",
   "language": "python",
   "name": "python3"
  },
  "language_info": {
   "codemirror_mode": {
    "name": "ipython",
    "version": 3
   },
   "file_extension": ".py",
   "mimetype": "text/x-python",
   "name": "python",
   "nbconvert_exporter": "python",
   "pygments_lexer": "ipython3",
   "version": "3.13.4"
  }
 },
 "nbformat": 4,
 "nbformat_minor": 5
}
