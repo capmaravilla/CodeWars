{
 "cells": [
  {
   "cell_type": "markdown",
   "id": "4b0dee38",
   "metadata": {},
   "source": [
    "### Next bigger number with the same digits - 4kyu\n",
    "https://www.codewars.com/kata/55983863da40caa2c900004e\n"
   ]
  },
  {
   "cell_type": "code",
   "execution_count": null,
   "id": "5beefa73",
   "metadata": {},
   "outputs": [
    {
     "name": "stdout",
     "output_type": "stream",
     "text": [
      "<class 'str'>\n"
     ]
    }
   ],
   "source": [
    "def next_bigger(n):\n",
    "    sample = str(n)\n",
    "    split = 0\n",
    "    for i in sample:\n",
    "        if i > i - 1:\n",
    "            split\n",
    "\n",
    "\n",
    "print(next_bigger(756432))"
   ]
  },
  {
   "cell_type": "code",
   "execution_count": null,
   "id": "9af17627",
   "metadata": {},
   "outputs": [],
   "source": []
  }
 ],
 "metadata": {
  "kernelspec": {
   "display_name": "Python 3",
   "language": "python",
   "name": "python3"
  },
  "language_info": {
   "codemirror_mode": {
    "name": "ipython",
    "version": 3
   },
   "file_extension": ".py",
   "mimetype": "text/x-python",
   "name": "python",
   "nbconvert_exporter": "python",
   "pygments_lexer": "ipython3",
   "version": "3.13.3"
  }
 },
 "nbformat": 4,
 "nbformat_minor": 5
}
