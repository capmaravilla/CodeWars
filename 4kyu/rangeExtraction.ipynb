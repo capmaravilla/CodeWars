{
 "cells": [
  {
   "cell_type": "markdown",
   "id": "a9acd4b8",
   "metadata": {},
   "source": [
    "### Range Extraction - 4Kyu\n",
    "https://www.codewars.com/kata/51ba717bb08c1cd60f00002f/solutions/python"
   ]
  },
  {
   "cell_type": "code",
   "execution_count": null,
   "id": "7eeddd63",
   "metadata": {},
   "outputs": [
    {
     "name": "stdout",
     "output_type": "stream",
     "text": [
      "-6,-3-1,3-5,7-11,14,15,17-20\n"
     ]
    }
   ],
   "source": [
    "nums = [-6, -3, -2, -1, 0, 1, 3, 4, 5, 7, 8, 9, 10, 11, 14, 15, 17, 18, 19, 20]\n",
    "\n",
    "\n",
    "def extraction(el):\n",
    "    if len(el) > 2:\n",
    "        return f\"{str(el[0])}-{str(el[-1])}\"\n",
    "    elif len(el) == 2:\n",
    "        return f\"{str(el[0])},{str(el[-1])}\"\n",
    "    else:\n",
    "        return str(el[0])\n",
    "\n",
    "\n",
    "def solution(n):\n",
    "    cache = []\n",
    "    pre = [n[0]]\n",
    "\n",
    "    for i in n[1:]:\n",
    "        if i == pre[-1] + 1:\n",
    "            pre.append(i)\n",
    "        else:\n",
    "            cache.append(pre)\n",
    "            pre = [i]\n",
    "        if i == n[-1]:\n",
    "            cache.append(pre)\n",
    "    return \",\".join(list(map(extraction, cache)))\n",
    "\n",
    "\n",
    "print(solution(nums))"
   ]
  },
  {
   "cell_type": "code",
   "execution_count": null,
   "id": "46e969d5",
   "metadata": {},
   "outputs": [],
   "source": [
    "def solution1(args):\n",
    "    out = []\n",
    "    beg = end = args[0]\n",
    "\n",
    "    for n in args[1:] + [\"\"]:\n",
    "        if n != end + 1:\n",
    "            if end == beg:\n",
    "                out.append(str(beg))\n",
    "            elif end == beg + 1:\n",
    "                out.extend([str(beg), str(end)])\n",
    "            else:\n",
    "                out.append(str(beg) + \"-\" + str(end))\n",
    "            beg = n\n",
    "        end = n\n",
    "\n",
    "    return \",\".join(out)"
   ]
  },
  {
   "cell_type": "code",
   "execution_count": null,
   "id": "2c3fca4b",
   "metadata": {},
   "outputs": [],
   "source": [
    "def solution2(arr):\n",
    "    ranges = []\n",
    "    a = b = arr[0]\n",
    "    for n in arr[1:] + [None]:\n",
    "        if n != b + 1:\n",
    "            ranges.append(str(a) if a == b else f\"{a}{\",\" if a + 1 == b else \"-\"}{b}\")\n",
    "            a = n\n",
    "        b = n\n",
    "    return \",\".join(ranges)"
   ]
  }
 ],
 "metadata": {
  "kernelspec": {
   "display_name": "codewars",
   "language": "python",
   "name": "python3"
  },
  "language_info": {
   "codemirror_mode": {
    "name": "ipython",
    "version": 3
   },
   "file_extension": ".py",
   "mimetype": "text/x-python",
   "name": "python",
   "nbconvert_exporter": "python",
   "pygments_lexer": "ipython3",
   "version": "3.13.4"
  }
 },
 "nbformat": 4,
 "nbformat_minor": 5
}
