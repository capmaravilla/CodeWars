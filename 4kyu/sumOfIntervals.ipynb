{
 "cells": [
  {
   "cell_type": "markdown",
   "id": "7d226514",
   "metadata": {},
   "source": [
    "### Sum of Intervals - 4kyu\n",
    "\n",
    "https://www.codewars.com/kata/52b7ed099cdc285c300001cd/python\n"
   ]
  },
  {
   "cell_type": "code",
   "execution_count": 31,
   "id": "ae4d29b9",
   "metadata": {},
   "outputs": [],
   "source": [
    "# No es optimo para numeros grandes\n",
    "def sum_of_intervals_0(intervals):\n",
    "    cache = []\n",
    "    for i in intervals:\n",
    "        for j in range(i[0], i[1]):\n",
    "            cache.append(j)\n",
    "    return len(set(cache))"
   ]
  },
  {
   "cell_type": "code",
   "execution_count": 32,
   "id": "1dd7e5ca",
   "metadata": {},
   "outputs": [],
   "source": [
    "# No es preciso y acaba dando errores\n",
    "def sum_of_intervals_00(intervals):\n",
    "    intervals.sort()\n",
    "    count = 0\n",
    "    min = intervals[0][0]\n",
    "    max = intervals[0][1]\n",
    "    for i in intervals:\n",
    "        if max > i[0] and max < i[1]:\n",
    "            max = i[1]\n",
    "        if max < i[0]:\n",
    "            count = len(range(min, max))\n",
    "            min = i[0]\n",
    "            max = i[1]\n",
    "    count += len(range(min, max))\n",
    "    return count"
   ]
  },
  {
   "cell_type": "code",
   "execution_count": null,
   "id": "d5526422",
   "metadata": {},
   "outputs": [],
   "source": [
    "def sum_of_intervals(intervals):\n",
    "    # Ordenar los intervalos por su inicio\n",
    "    intervals = sorted(intervals, key=lambda x: x[0])\n",
    "    total = 0\n",
    "    if not intervals:\n",
    "        return 0\n",
    "    # Inicializar el primer intervalo\n",
    "    start, end = intervals[0]\n",
    "    for current_start, current_end in intervals[1:]:\n",
    "        if current_start <= end:  # Solapado o adyacente\n",
    "            # Extender el final si es necesario\n",
    "            end = max(end, current_end)\n",
    "        else:\n",
    "            # Sumar la longitud del intervalo anterior\n",
    "            total += end - start\n",
    "            # Comenzar un nuevo intervalo\n",
    "            start, end = current_start, current_end\n",
    "    # Sumar la longitud del último intervalo\n",
    "    total += end - start\n",
    "    return total"
   ]
  },
  {
   "cell_type": "code",
   "execution_count": null,
   "id": "21856daa",
   "metadata": {},
   "outputs": [],
   "source": [
    "def sum_of_intervals1(intervals):\n",
    "    s, top = 0, float(\"-inf\")\n",
    "    for a, b in sorted(intervals):\n",
    "        if top < a:\n",
    "            top = a\n",
    "        if top < b:\n",
    "            s, top = s + b - top, b\n",
    "    return s"
   ]
  },
  {
   "cell_type": "code",
   "execution_count": null,
   "id": "624f70eb",
   "metadata": {},
   "outputs": [
    {
     "name": "stdout",
     "output_type": "stream",
     "text": [
      "8\n",
      "7\n",
      "60\n"
     ]
    }
   ],
   "source": [
    "# Ejemplos de prueba\n",
    "print(sum_of_intervals([(1, 5), (6, 10)]))\n",
    "print(sum_of_intervals([(1, 4), (7, 10), (3, 5)]))\n",
    "print(sum_of_intervals1([[1, 4], [7, 9], [23, 68], [45, 78]]))"
   ]
  }
 ],
 "metadata": {
  "kernelspec": {
   "display_name": "codewars",
   "language": "python",
   "name": "python3"
  },
  "language_info": {
   "codemirror_mode": {
    "name": "ipython",
    "version": 3
   },
   "file_extension": ".py",
   "mimetype": "text/x-python",
   "name": "python",
   "nbconvert_exporter": "python",
   "pygments_lexer": "ipython3",
   "version": "3.13.4"
  }
 },
 "nbformat": 4,
 "nbformat_minor": 5
}
