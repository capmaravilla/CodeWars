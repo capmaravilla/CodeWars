{
 "cells": [
  {
   "cell_type": "markdown",
   "id": "2a06eb21",
   "metadata": {},
   "source": [
    "### The observed PIN\n",
    "https://www.codewars.com/kata/5263c6999e0f40dee200059d"
   ]
  },
  {
   "cell_type": "code",
   "execution_count": 24,
   "id": "108fd2bf",
   "metadata": {},
   "outputs": [
    {
     "name": "stdout",
     "output_type": "stream",
     "text": [
      "['46', '48', '49', '26', '28', '29', '16', '18', '19']\n"
     ]
    }
   ],
   "source": [
    "master = [[\"1\", \"2\", \"3\"], [\"4\", \"5\", \"6\"], [\"7\", \"8\", \"9\"]]\n",
    "\n",
    "\n",
    "def find_value(n):\n",
    "\n",
    "    for i, row in enumerate(master):\n",
    "        for j, value in enumerate(row):\n",
    "            if value == n:\n",
    "                return (i, j)\n",
    "\n",
    "\n",
    "def find_anex(n):\n",
    "    if n == \"0\":\n",
    "        return [\"0\", \"8\"]\n",
    "\n",
    "    base = find_value(n)\n",
    "    cache = []\n",
    "\n",
    "    if base[0] == 1:\n",
    "        vert = [0, 2]\n",
    "    else:\n",
    "        vert = [1]\n",
    "    if base[1] == 1:\n",
    "        hor = [0, 2]\n",
    "    else:\n",
    "        hor = [1]\n",
    "    for i in vert:\n",
    "        cache.append([i, base[1]])\n",
    "    for j in hor:\n",
    "        cache.append([base[0], j])\n",
    "    cache = list(map(lambda x: master[x[0]][x[1]], cache))\n",
    "    cache.append(n)\n",
    "    if n == \"8\":\n",
    "        cache.append(\"0\")\n",
    "    return cache\n",
    "\n",
    "import itertools\n",
    "\n",
    "def get_pins(observed):\n",
    "    cache = list(observed)\n",
    "    cache = list(map(find_anex,cache))\n",
    "    cache = list(itertools.product(*cache))\n",
    "    return [''.join(tupla) for tupla in cache]\n",
    "\n",
    "\n",
    "print(get_pins(\"19\"))"
   ]
  },
  {
   "cell_type": "code",
   "execution_count": null,
   "id": "a0328054",
   "metadata": {},
   "outputs": [],
   "source": [
    "from itertools import product\n",
    "\n",
    "ADJACENTS = ('08', '124', '2135', '326', '4157', '52468', '6359', '748', '85790', '968')\n",
    "\n",
    "def get_pins(observed):\n",
    "    return [''.join(p) for p in product(*(ADJACENTS[int(d)] for d in observed))]"
   ]
  }
 ],
 "metadata": {
  "kernelspec": {
   "display_name": "codewars",
   "language": "python",
   "name": "python3"
  },
  "language_info": {
   "codemirror_mode": {
    "name": "ipython",
    "version": 3
   },
   "file_extension": ".py",
   "mimetype": "text/x-python",
   "name": "python",
   "nbconvert_exporter": "python",
   "pygments_lexer": "ipython3",
   "version": "3.13.4"
  }
 },
 "nbformat": 4,
 "nbformat_minor": 5
}
