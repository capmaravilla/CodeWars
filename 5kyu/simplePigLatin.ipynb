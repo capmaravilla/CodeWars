{
 "cells": [
  {
   "cell_type": "code",
   "execution_count": 26,
   "id": "42fa89ba",
   "metadata": {},
   "outputs": [
    {
     "name": "stdout",
     "output_type": "stream",
     "text": [
      "elloHay orldWay !\n"
     ]
    }
   ],
   "source": [
    "def pig_it(text):\n",
    "    return \" \".join(\n",
    "        [w[1:] + w[0] + \"ay\" if w.isalnum() else w for w in text.split(\" \")]\n",
    "    )\n",
    "\n",
    "\n",
    "print(pig_it(\"Hello World !\"))"
   ]
  },
  {
   "cell_type": "code",
   "execution_count": null,
   "id": "9755875b",
   "metadata": {},
   "outputs": [
    {
     "name": "stdout",
     "output_type": "stream",
     "text": [
      "elloHay orldWay !\n"
     ]
    }
   ],
   "source": [
    "def pig_it1(text):\n",
    "    res = []\n",
    "    for i in text.split():\n",
    "        if i.isalpha():\n",
    "            res.append(i[1:] + i[0] + \"ay\")\n",
    "        else:\n",
    "            res.append(i)\n",
    "    return \" \".join(res)\n",
    "\n",
    "\n",
    "print(pig_it1(\"Hello World !\"))"
   ]
  }
 ],
 "metadata": {
  "kernelspec": {
   "display_name": "codewars",
   "language": "python",
   "name": "python3"
  },
  "language_info": {
   "codemirror_mode": {
    "name": "ipython",
    "version": 3
   },
   "file_extension": ".py",
   "mimetype": "text/x-python",
   "name": "python",
   "nbconvert_exporter": "python",
   "pygments_lexer": "ipython3",
   "version": "3.13.4"
  }
 },
 "nbformat": 4,
 "nbformat_minor": 5
}
