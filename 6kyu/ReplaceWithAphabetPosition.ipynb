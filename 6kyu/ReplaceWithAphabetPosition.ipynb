{
 "cells": [
  {
   "cell_type": "markdown",
   "id": "e3d6d859",
   "metadata": {},
   "source": [
    "### Replace with Alphabet position - 6kyu\n",
    "\n",
    "https://www.codewars.com/kata/546f922b54af40e1e90001da/python\n"
   ]
  },
  {
   "cell_type": "code",
   "execution_count": null,
   "id": "419246ad",
   "metadata": {},
   "outputs": [
    {
     "name": "stdout",
     "output_type": "stream",
     "text": [
      "20 8 5 19 21 14 19 5 20\n",
      "True\n"
     ]
    }
   ],
   "source": [
    "def alphabet_position(text):\n",
    "    cache = [ord(x) - 96 for x in text.lower() if ord(x) - 96 > 0 and ord(x) - 96 < 27]\n",
    "    return \" \".join(str(num) for num in cache)\n",
    "\n",
    "\n",
    "text_sample = \"The sunset\"\n",
    "print(alphabet_position(text_sample))"
   ]
  },
  {
   "cell_type": "code",
   "execution_count": null,
   "id": "121d9f8f",
   "metadata": {},
   "outputs": [],
   "source": [
    "def alphabet_position(text):\n",
    "    return \" \".join(str(ord(c) - 96) for c in text.lower() if c.isalpha())"
   ]
  },
  {
   "cell_type": "code",
   "execution_count": null,
   "id": "7aedee8d",
   "metadata": {},
   "outputs": [],
   "source": [
    "def alphabet_position(s):\n",
    "    return \" \".join(str(ord(c) - ord(\"a\") + 1) for c in s.lower() if c.isalpha())"
   ]
  }
 ],
 "metadata": {
  "kernelspec": {
   "display_name": "codewars",
   "language": "python",
   "name": "python3"
  },
  "language_info": {
   "codemirror_mode": {
    "name": "ipython",
    "version": 3
   },
   "file_extension": ".py",
   "mimetype": "text/x-python",
   "name": "python",
   "nbconvert_exporter": "python",
   "pygments_lexer": "ipython3",
   "version": "3.13.4"
  }
 },
 "nbformat": 4,
 "nbformat_minor": 5
}
