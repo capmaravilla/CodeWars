{
 "cells": [
  {
   "cell_type": "markdown",
   "id": "a3a81eb3",
   "metadata": {},
   "source": [
    "### Data Reverse - 6kyu\n",
    "https://www.codewars.com/kata/569d488d61b812a0f7000015/python"
   ]
  },
  {
   "cell_type": "code",
   "execution_count": null,
   "id": "0ba25e0f",
   "metadata": {},
   "outputs": [
    {
     "name": "stdout",
     "output_type": "stream",
     "text": [
      "[3, 0, 3, 0, 3, 0, 3, 0, 2, 0, 2, 0, 2, 0, 2, 0, 1, 0, 1, 0, 1, 0, 1, 0]\n"
     ]
    }
   ],
   "source": [
    "def data_reverse(data):\n",
    "    array = [x for x in data]\n",
    "    final = []\n",
    "    for _ in range(int(len(array) / 8)):\n",
    "        a = [array.pop(0) for _ in range(8)]\n",
    "        final[:0] = a\n",
    "\n",
    "    return final\n",
    "\n",
    "\n",
    "bits = [1, 0, 1, 0, 1, 0, 1, 0, 2, 0, 2, 0, 2, 0, 2, 0, 3, 0, 3, 0, 3, 0, 3, 0]\n",
    "\n",
    "print(data_reverse(bits))"
   ]
  },
  {
   "cell_type": "code",
   "execution_count": null,
   "id": "eae9dce1",
   "metadata": {},
   "outputs": [
    {
     "name": "stdout",
     "output_type": "stream",
     "text": [
      "[3, 0, 3, 0, 3, 0, 3, 0, 2, 0, 2, 0, 2, 0, 2, 0, 1, 0, 1, 0, 1, 0, 1, 0]\n"
     ]
    }
   ],
   "source": [
    "def data_reverse1(data):\n",
    "    res = []\n",
    "\n",
    "    for i in range(len(data) - 8, -1, -8):\n",
    "        res.extend(data[i : i + 8])\n",
    "\n",
    "    return res\n",
    "\n",
    "\n",
    "print(data_reverse1(bits))"
   ]
  },
  {
   "cell_type": "code",
   "execution_count": null,
   "id": "a265c95e",
   "metadata": {},
   "outputs": [
    {
     "name": "stdout",
     "output_type": "stream",
     "text": [
      "[3, 0, 3, 0, 3, 0, 3, 0, 2, 0, 2, 0, 2, 0, 2, 0, 1, 0, 1, 0, 1, 0, 1, 0]\n"
     ]
    }
   ],
   "source": [
    "def data_reverse2(data):\n",
    "    return [b for a in range(len(data) - 8, -1, -8) for b in data[a : a + 8]]\n",
    "\n",
    "\n",
    "print(data_reverse2(bits))"
   ]
  }
 ],
 "metadata": {
  "kernelspec": {
   "display_name": "codewars",
   "language": "python",
   "name": "python3"
  },
  "language_info": {
   "codemirror_mode": {
    "name": "ipython",
    "version": 3
   },
   "file_extension": ".py",
   "mimetype": "text/x-python",
   "name": "python",
   "nbconvert_exporter": "python",
   "pygments_lexer": "ipython3",
   "version": "3.13.4"
  }
 },
 "nbformat": 4,
 "nbformat_minor": 5
}
