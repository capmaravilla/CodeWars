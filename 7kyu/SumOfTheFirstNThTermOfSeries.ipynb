{
 "cells": [
  {
   "cell_type": "markdown",
   "id": "bb29668b",
   "metadata": {},
   "source": [
    "### Sum of the first nth term of Series - 7kyu\n",
    "\n",
    "https://www.codewars.com/kata/555eded1ad94b00403000071/python\n"
   ]
  },
  {
   "cell_type": "code",
   "execution_count": 4,
   "id": "6a9363a5",
   "metadata": {},
   "outputs": [
    {
     "name": "stdout",
     "output_type": "stream",
     "text": [
      "1.49\n"
     ]
    }
   ],
   "source": [
    "def series_sum(n):\n",
    "    cache = 0\n",
    "    d = 1\n",
    "    for _ in range(n):\n",
    "        cache += 1 / d\n",
    "        d += 3\n",
    "    return f\"{cache:.2f}\"\n",
    "    return \"{:.2f}\".format(cache)\n",
    "    return \"%.2f\" % cache\n",
    "    # TODO esto seria el equivalente a \"{}.2f\".format(sum)\n",
    "\n",
    "\n",
    "print(series_sum(4))"
   ]
  },
  {
   "cell_type": "code",
   "execution_count": 2,
   "id": "08216e99",
   "metadata": {},
   "outputs": [
    {
     "name": "stdout",
     "output_type": "stream",
     "text": [
      "1.57\n"
     ]
    }
   ],
   "source": [
    "def series_num1(n):\n",
    "    return f\"{sum([1/(3*i+1) for i in range(n)]):.2f}\"\n",
    "\n",
    "\n",
    "print(series_num1(5))"
   ]
  },
  {
   "cell_type": "code",
   "execution_count": 3,
   "id": "ec267a7e",
   "metadata": {},
   "outputs": [],
   "source": [
    "def series_sum2(n):\n",
    "    return \"{:.2f}\".format(sum(1.0 / (3 * i + 1) for i in range(n)))"
   ]
  }
 ],
 "metadata": {
  "kernelspec": {
   "display_name": "codewars",
   "language": "python",
   "name": "python3"
  },
  "language_info": {
   "codemirror_mode": {
    "name": "ipython",
    "version": 3
   },
   "file_extension": ".py",
   "mimetype": "text/x-python",
   "name": "python",
   "nbconvert_exporter": "python",
   "pygments_lexer": "ipython3",
   "version": "3.13.4"
  }
 },
 "nbformat": 4,
 "nbformat_minor": 5
}
