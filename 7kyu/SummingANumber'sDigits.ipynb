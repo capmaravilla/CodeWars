{
 "cells": [
  {
   "cell_type": "markdown",
   "id": "cf9524d2",
   "metadata": {},
   "source": [
    "### Summing a number's digits - 7kyu\n",
    "\n",
    "https://www.codewars.com/kata/52f3149496de55aded000410/train/python\n"
   ]
  },
  {
   "cell_type": "code",
   "execution_count": 22,
   "id": "f4e09f3b",
   "metadata": {},
   "outputs": [],
   "source": [
    "def sum_digits(number):\n",
    "    return sum(list(map(int, list(str(abs(number))))))"
   ]
  },
  {
   "cell_type": "code",
   "execution_count": 26,
   "id": "23a6ae25",
   "metadata": {},
   "outputs": [],
   "source": [
    "def sum_digits1(number):\n",
    "    return sum(int(d) for d in str(abs(number)))"
   ]
  },
  {
   "cell_type": "code",
   "execution_count": 27,
   "id": "c68ba6f6",
   "metadata": {},
   "outputs": [
    {
     "name": "stdout",
     "output_type": "stream",
     "text": [
      "1\n",
      "18\n",
      "5\n"
     ]
    }
   ],
   "source": [
    "print(sum_digits(10))\n",
    "print(sum_digits(99))\n",
    "print(sum_digits1(-32))"
   ]
  }
 ],
 "metadata": {
  "kernelspec": {
   "display_name": "codewars",
   "language": "python",
   "name": "python3"
  },
  "language_info": {
   "codemirror_mode": {
    "name": "ipython",
    "version": 3
   },
   "file_extension": ".py",
   "mimetype": "text/x-python",
   "name": "python",
   "nbconvert_exporter": "python",
   "pygments_lexer": "ipython3",
   "version": "3.13.4"
  }
 },
 "nbformat": 4,
 "nbformat_minor": 5
}
