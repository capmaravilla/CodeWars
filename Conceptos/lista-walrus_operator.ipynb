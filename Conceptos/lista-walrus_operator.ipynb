{
 "cells": [
  {
   "cell_type": "code",
   "execution_count": null,
   "id": "83bc440f",
   "metadata": {},
   "outputs": [
    {
     "data": {
      "text/plain": [
       "[27, 28, 29]"
      ]
     },
     "execution_count": 2,
     "metadata": {},
     "output_type": "execute_result"
    }
   ],
   "source": [
    "def get_rounds(number: int):\n",
    "    return [number, number + 1, number + 2]\n",
    "\n",
    "\n",
    "get_rounds(27)"
   ]
  },
  {
   "cell_type": "code",
   "execution_count": null,
   "id": "fdf87225",
   "metadata": {},
   "outputs": [
    {
     "data": {
      "text/plain": [
       "[27, 28, 29, 35, 36]"
      ]
     },
     "execution_count": 3,
     "metadata": {},
     "output_type": "execute_result"
    }
   ],
   "source": [
    "def concatenate_rounds(rounds_1: list[int], rounds_2: list[int]):\n",
    "    return rounds_1 + rounds_2\n",
    "\n",
    "\n",
    "concatenate_rounds([27, 28, 29], [35, 36])"
   ]
  },
  {
   "cell_type": "code",
   "execution_count": null,
   "id": "af6527c2",
   "metadata": {},
   "outputs": [
    {
     "data": {
      "text/plain": [
       "False"
      ]
     },
     "execution_count": 5,
     "metadata": {},
     "output_type": "execute_result"
    }
   ],
   "source": [
    "def list_contains_round(rounds, number):\n",
    "    return number in rounds\n",
    "\n",
    "\n",
    "list_contains_round([27, 28, 29, 35, 36], 26)"
   ]
  },
  {
   "cell_type": "code",
   "execution_count": null,
   "id": "c27786cc",
   "metadata": {},
   "outputs": [
    {
     "data": {
      "text/plain": [
       "6.0"
      ]
     },
     "execution_count": 6,
     "metadata": {},
     "output_type": "execute_result"
    }
   ],
   "source": [
    "def card_average(hand):\n",
    "    return sum(hand) / len(hand)\n",
    "\n",
    "\n",
    "card_average([5, 6, 7])"
   ]
  },
  {
   "cell_type": "code",
   "execution_count": 72,
   "id": "1068efd9",
   "metadata": {},
   "outputs": [
    {
     "data": {
      "text/plain": [
       "True"
      ]
     },
     "execution_count": 72,
     "metadata": {},
     "output_type": "execute_result"
    }
   ],
   "source": [
    "def approx_average_is_average(hand):\n",
    "    average = card_average(hand)\n",
    "    card = (hand[0] + hand[-1]) / 2\n",
    "    return card == average or hand[len(hand) // 2] == average\n",
    "\n",
    "\n",
    "approx_average_is_average([2, 3, 4, 8, 8])"
   ]
  },
  {
   "cell_type": "code",
   "execution_count": null,
   "id": "a0a960ca",
   "metadata": {},
   "outputs": [
    {
     "data": {
      "text/plain": [
       "True"
      ]
     },
     "execution_count": 70,
     "metadata": {},
     "output_type": "execute_result"
    }
   ],
   "source": [
    "def average_even_is_average_odd(hand):\n",
    "    even: list[int] = [x for x in hand if x % 2 == 0]\n",
    "    odd: list[int] = [x for x in hand if x % 2 != 0]\n",
    "    if even == [] or odd == []:\n",
    "        return True\n",
    "    return card_average(even) == card_average(odd)\n",
    "\n",
    "\n",
    "input_data = [[5, 6, 8], [1, 2, 3, 4], [1, 2, 3], [5, 6, 7], [1, 3, 5, 7, 9]]\n",
    "result_data = [False, False, True, True, True]\n",
    "\n",
    "average_even_is_average_odd(input_data[4])"
   ]
  },
  {
   "cell_type": "code",
   "execution_count": null,
   "id": "69fa697f",
   "metadata": {},
   "outputs": [
    {
     "data": {
      "text/plain": [
       "[5, 9, 22]"
      ]
     },
     "execution_count": 73,
     "metadata": {},
     "output_type": "execute_result"
    }
   ],
   "source": [
    "def maybe_double_last(hand):\n",
    "    if hand[-1] == 11:\n",
    "        hand[-1] = hand[-1] * 2\n",
    "    return hand\n",
    "\n",
    "    if (last := hand[-1]) == 11:\n",
    "        hand[-1] = last * 2\n",
    "    return hand\n",
    "\n",
    "\n",
    "hand = [5, 9, 11]\n",
    "maybe_double_last(hand)"
   ]
  },
  {
   "cell_type": "code",
   "execution_count": 76,
   "id": "199a13a3",
   "metadata": {},
   "outputs": [
    {
     "name": "stdout",
     "output_type": "stream",
     "text": [
      "True\n",
      "True\n"
     ]
    }
   ],
   "source": [
    "feliz = True\n",
    "print(feliz)\n",
    "print(triste := True)"
   ]
  },
  {
   "cell_type": "code",
   "execution_count": null,
   "id": "bb591380",
   "metadata": {},
   "outputs": [],
   "source": [
    "def maybe_double_last(hand: list[int]):\n",
    "    # * Walrus operator :=\n",
    "    # 1 -> Asigna el último elemento de la lista (hand[-1]) a la variable last\n",
    "    # 2 -> Evalúa si ese valor es igual a 11\n",
    "    if (last := hand[-1]) == 11:\n",
    "        hand[-1] = last * 2\n",
    "    return hand"
   ]
  },
  {
   "cell_type": "code",
   "execution_count": null,
   "id": "c6e869d0",
   "metadata": {},
   "outputs": [
    {
     "data": {
      "text/plain": [
       "'holados'"
      ]
     },
     "execution_count": 2,
     "metadata": {},
     "output_type": "execute_result"
    }
   ],
   "source": []
  }
 ],
 "metadata": {
  "kernelspec": {
   "display_name": "codewars (3.13.4)",
   "language": "python",
   "name": "python3"
  },
  "language_info": {
   "codemirror_mode": {
    "name": "ipython",
    "version": 3
   },
   "file_extension": ".py",
   "mimetype": "text/x-python",
   "name": "python",
   "nbconvert_exporter": "python",
   "pygments_lexer": "ipython3",
   "version": "3.13.4"
  }
 },
 "nbformat": 4,
 "nbformat_minor": 5
}
