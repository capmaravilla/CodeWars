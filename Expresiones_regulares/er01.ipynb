{
 "cells": [
  {
   "cell_type": "code",
   "execution_count": 2,
   "id": "270163b9",
   "metadata": {},
   "outputs": [
    {
     "name": "stdout",
     "output_type": "stream",
     "text": [
      "Python 3.13.4\n"
     ]
    }
   ],
   "source": [
    "!python --version"
   ]
  },
  {
   "cell_type": "code",
   "execution_count": 3,
   "id": "ff20dcb7",
   "metadata": {},
   "outputs": [],
   "source": [
    "# Importamos re\n",
    "import re"
   ]
  },
  {
   "cell_type": "code",
   "execution_count": null,
   "id": "3ff243c3",
   "metadata": {},
   "outputs": [
    {
     "data": {
      "text/plain": [
       "<re.Match object; span=(8, 16), match='aprender'>"
      ]
     },
     "execution_count": 4,
     "metadata": {},
     "output_type": "execute_result"
    }
   ],
   "source": [
    "# Tenemos la cadena con la que vamos a trabajar\n",
    "cadena = \"Vamos a aprender expresiones regulares en Python\"\n",
    "\n",
    "# search busca por la primero localizacion de en la que se encuentre el patrón\n",
    "re.search(\"aprender\", cadena)"
   ]
  },
  {
   "cell_type": "code",
   "execution_count": null,
   "id": "6c9689df",
   "metadata": {},
   "outputs": [
    {
     "name": "stdout",
     "output_type": "stream",
     "text": [
      "(8, 16)\n",
      "aprender\n",
      "aprender\n"
     ]
    }
   ],
   "source": [
    "# Obtenemos la tupla con la posición\n",
    "resultado = re.search(\"aprender\", cadena)\n",
    "span = resultado.span()\n",
    "print(span)\n",
    "\n",
    "# Obtenemos la seccion dada en el spam\n",
    "print(cadena[span[0] : span[1]])\n",
    "\n",
    "# Podemos usar el metodo group para obtener la palabra encontrada\n",
    "palabra = resultado.group()\n",
    "print(palabra)"
   ]
  },
  {
   "cell_type": "code",
   "execution_count": null,
   "id": "e75d16eb",
   "metadata": {},
   "outputs": [
    {
     "name": "stdout",
     "output_type": "stream",
     "text": [
      "Encontrada\n"
     ]
    }
   ],
   "source": [
    "# podemos usar search en un contexto booleano\n",
    "if re.search(\"aprender\", cadena):\n",
    "    print(\"Encontrada\")\n",
    "else:\n",
    "    print(\"No encontrada\")"
   ]
  }
 ],
 "metadata": {
  "kernelspec": {
   "display_name": "codewars (3.13.4)",
   "language": "python",
   "name": "python3"
  },
  "language_info": {
   "codemirror_mode": {
    "name": "ipython",
    "version": 3
   },
   "file_extension": ".py",
   "mimetype": "text/x-python",
   "name": "python",
   "nbconvert_exporter": "python",
   "pygments_lexer": "ipython3",
   "version": "3.13.4"
  }
 },
 "nbformat": 4,
 "nbformat_minor": 5
}
