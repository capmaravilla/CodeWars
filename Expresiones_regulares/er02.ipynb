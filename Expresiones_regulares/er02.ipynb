{
 "cells": [
  {
   "cell_type": "code",
   "execution_count": 1,
   "id": "9d9750a9",
   "metadata": {},
   "outputs": [],
   "source": [
    "import re"
   ]
  },
  {
   "cell_type": "code",
   "execution_count": null,
   "id": "746292dc",
   "metadata": {},
   "outputs": [],
   "source": [
    "# Definimo una funcion que no ayude a buscar un patro en un texto\n",
    "def buscar_patron(patron, texto):\n",
    "    print(texto)\n",
    "\n",
    "    # Buscamos el patron en el texto\n",
    "    res = re.search(patron, texto)\n",
    "    # Si lo encontramos\n",
    "    if res:\n",
    "        print(f\"{res.group()} -> ({res.start()} , {res.end()})\")\n",
    "    else:\n",
    "        print(\"No encontramos nada\")"
   ]
  },
  {
   "cell_type": "code",
   "execution_count": null,
   "id": "9b3e551e",
   "metadata": {},
   "outputs": [
    {
     "name": "stdout",
     "output_type": "stream",
     "text": [
      "pato\n",
      "pat -> (0 , 3)\n",
      "el paciente tiene un problema hepatico\n",
      "pat -> (32 , 35)\n"
     ]
    }
   ],
   "source": [
    "# El metacaracter .\n",
    "buscar_patron(\"p.t\", \"pato\")\n",
    "buscar_patron(\"p.t\", \"el paciente tiene un problema hepatico\")"
   ]
  },
  {
   "cell_type": "code",
   "execution_count": null,
   "id": "dc553cd2",
   "metadata": {},
   "outputs": [
    {
     "name": "stdout",
     "output_type": "stream",
     "text": [
      "1234-1234\n",
      "1234-1234 -> (0 , 9)\n",
      "123-123\n",
      "No encontramos nada\n",
      "1234 1234\n",
      "No encontramos nada\n"
     ]
    }
   ],
   "source": [
    "# verificar si tenemos los caracteres apropiados para un código\n",
    "buscar_patron(\"....-....\", \"1234-1234\")\n",
    "buscar_patron(\"....-....\", \"123-123\")\n",
    "buscar_patron(\"....-....\", \"1234 1234\")"
   ]
  }
 ],
 "metadata": {
  "kernelspec": {
   "display_name": "codewars (3.13.4)",
   "language": "python",
   "name": "python3"
  },
  "language_info": {
   "codemirror_mode": {
    "name": "ipython",
    "version": 3
   },
   "file_extension": ".py",
   "mimetype": "text/x-python",
   "name": "python",
   "nbconvert_exporter": "python",
   "pygments_lexer": "ipython3",
   "version": "3.13.4"
  }
 },
 "nbformat": 4,
 "nbformat_minor": 5
}
