{
 "cells": [
  {
   "cell_type": "code",
   "execution_count": null,
   "id": "d2928002",
   "metadata": {},
   "outputs": [],
   "source": [
    "import re\n",
    "\n",
    "\n",
    "# Definimo una funcion que no ayude a buscar un patro en un texto\n",
    "def buscar_patron(patron, texto):\n",
    "    print(texto)\n",
    "\n",
    "    # Buscamos el patron en el texto\n",
    "    res = re.search(patron, texto)\n",
    "    # Si lo encontramos\n",
    "    if res:\n",
    "        print(f\"{res.group()} -> ({res.start()} , {res.end()})\")\n",
    "    else:\n",
    "        print(\"No encontramos nada\")"
   ]
  },
  {
   "cell_type": "code",
   "execution_count": null,
   "id": "13787ae7",
   "metadata": {},
   "outputs": [
    {
     "name": "stdout",
     "output_type": "stream",
     "text": [
      "Estoy aprendiendo\n",
      "Estoy -> (0 , 5)\n",
      "Ahora estoy aprendiendo\n",
      "No encontramos nada\n",
      "estoy aprendiendo\n",
      "No encontramos nada\n",
      "Estoy aprendiendo\n",
      "E -> (0 , 1)\n"
     ]
    }
   ],
   "source": [
    "# El metacaracter ^\n",
    "buscar_patron(\"^Estoy\", \"Estoy aprendiendo\")\n",
    "buscar_patron(\"^Estoy\", \"Ahora estoy aprendiendo\")\n",
    "buscar_patron(\"^Estoy\", \"estoy aprendiendo\")\n",
    "buscar_patron(\"^E\", \"Estoy aprendiendo\")"
   ]
  },
  {
   "cell_type": "code",
   "execution_count": null,
   "id": "907e4d28",
   "metadata": {},
   "outputs": [
    {
     "name": "stdout",
     "output_type": "stream",
     "text": [
      "Estoy aprendiendo\n",
      "Es -> (0 , 2)\n",
      "estoy aprendiendo\n",
      "es -> (0 , 2)\n",
      "Lalo esta aqui\n",
      "Lal -> (0 , 3)\n",
      "Pero no Lola\n",
      "No encontramos nada\n"
     ]
    }
   ],
   "source": [
    "buscar_patron(\"^.s\", \"Estoy aprendiendo\")\n",
    "buscar_patron(\"^.s\", \"estoy aprendiendo\")\n",
    "buscar_patron(\"^L.l\", \"Lalo esta aqui\")\n",
    "buscar_patron(\"^L.l\", \"Pero no Lola\")"
   ]
  }
 ],
 "metadata": {
  "kernelspec": {
   "display_name": "codewars (3.13.4)",
   "language": "python",
   "name": "python3"
  },
  "language_info": {
   "codemirror_mode": {
    "name": "ipython",
    "version": 3
   },
   "file_extension": ".py",
   "mimetype": "text/x-python",
   "name": "python",
   "nbconvert_exporter": "python",
   "pygments_lexer": "ipython3",
   "version": "3.13.4"
  }
 },
 "nbformat": 4,
 "nbformat_minor": 5
}
