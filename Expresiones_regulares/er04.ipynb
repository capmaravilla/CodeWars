{
 "cells": [
  {
   "cell_type": "code",
   "execution_count": null,
   "id": "bee31584",
   "metadata": {},
   "outputs": [],
   "source": [
    "import re\n",
    "\n",
    "\n",
    "# Definimo una funcion que no ayude a buscar un patro en un texto\n",
    "def buscar_patron(patron, texto):\n",
    "    print(texto)\n",
    "\n",
    "    # Buscamos el patron en el texto\n",
    "    res = re.search(patron, texto)\n",
    "    # Si lo encontramos\n",
    "    if res:\n",
    "        print(f\"{res.group()} -> ({res.start()} , {res.end()})\")\n",
    "    else:\n",
    "        print(\"No encontramos nada\")"
   ]
  },
  {
   "cell_type": "code",
   "execution_count": null,
   "id": "715fead5",
   "metadata": {},
   "outputs": [
    {
     "name": "stdout",
     "output_type": "stream",
     "text": [
      "Me gustan los datos\n",
      "datos -> (14 , 19)\n",
      "Me gustan los datos patos\n",
      "No encontramos nada\n"
     ]
    }
   ],
   "source": [
    "# El metacaracter $\n",
    "buscar_patron(\"datos$\", \"Me gustan los datos\")\n",
    "buscar_patron(\"datos$\", \"Me gustan los datos patos\")"
   ]
  },
  {
   "cell_type": "code",
   "execution_count": null,
   "id": "51b3e754",
   "metadata": {},
   "outputs": [
    {
     "name": "stdout",
     "output_type": "stream",
     "text": [
      "Me gustan los datos patos\n",
      "patos -> (20 , 25)\n"
     ]
    }
   ],
   "source": [
    "buscar_patron(\".atos$\", \"Me gustan los datos patos\")"
   ]
  },
  {
   "cell_type": "code",
   "execution_count": null,
   "id": "dc24d20a",
   "metadata": {},
   "outputs": [
    {
     "name": "stdout",
     "output_type": "stream",
     "text": [
      "documento.pdf\n",
      ".pdf -> (9 , 13)\n",
      "documentopdf\n",
      "No encontramos nada\n"
     ]
    }
   ],
   "source": [
    "# El metacaracter \\\n",
    "# Se usa para escapar de metacaracteres especiales.\n",
    "# . ^ $ * + ? | () [] {} \\\n",
    "# Se usa para definir secuencias especiales de escape\n",
    "buscar_patron(r\"\\.pdf$\", \"documento.pdf\")\n",
    "buscar_patron(r\"\\.pdf$\", \"documentopdf\")"
   ]
  }
 ],
 "metadata": {
  "kernelspec": {
   "display_name": "codewars (3.13.4)",
   "language": "python",
   "name": "python3"
  },
  "language_info": {
   "codemirror_mode": {
    "name": "ipython",
    "version": 3
   },
   "file_extension": ".py",
   "mimetype": "text/x-python",
   "name": "python",
   "nbconvert_exporter": "python",
   "pygments_lexer": "ipython3",
   "version": "3.13.4"
  }
 },
 "nbformat": 4,
 "nbformat_minor": 5
}
