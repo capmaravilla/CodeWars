{
 "cells": [
  {
   "cell_type": "code",
   "execution_count": null,
   "id": "672a48df",
   "metadata": {},
   "outputs": [],
   "source": [
    "import re\n",
    "\n",
    "\n",
    "# Definimo una funcion que no ayude a buscar un patro en un texto\n",
    "def buscar_patron(patron, texto):\n",
    "    print(texto)\n",
    "\n",
    "    # Buscamos el patron en el texto\n",
    "    res = re.search(patron, texto)\n",
    "    # Si lo encontramos\n",
    "    if res:\n",
    "        print(f\"{res.group()} -> ({res.start()} , {res.end()})\")\n",
    "    else:\n",
    "        print(\"No encontramos nada\")"
   ]
  },
  {
   "cell_type": "code",
   "execution_count": null,
   "id": "308ffcc2",
   "metadata": {},
   "outputs": [
    {
     "name": "stdout",
     "output_type": "stream",
     "text": [
      "a\n",
      "a -> (0 , 1)\n",
      "b\n",
      " -> (0 , 0)\n",
      "La casa de la abuela\n",
      " -> (0 , 0)\n"
     ]
    }
   ],
   "source": [
    "# El metacaracter *\n",
    "buscar_patron(r\"a*\", \"a\")\n",
    "buscar_patron(r\"a*\", \"b\")\n",
    "buscar_patron(r\"a*\", \"La casa de la abuela\")"
   ]
  },
  {
   "cell_type": "code",
   "execution_count": null,
   "id": "0da21e1f",
   "metadata": {},
   "outputs": [
    {
     "data": {
      "text/plain": [
       "['a', 'a', 'a', 'a', 'a']"
      ]
     },
     "execution_count": 9,
     "metadata": {},
     "output_type": "execute_result"
    }
   ],
   "source": [
    "resultado = re.findall(r\"a\", \"La casa amiga\")\n",
    "resultado"
   ]
  },
  {
   "cell_type": "code",
   "execution_count": null,
   "id": "0a925532",
   "metadata": {},
   "outputs": [
    {
     "data": {
      "text/plain": [
       "['', 'a', '', '', 'a', '', 'a', '', 'a', '', '', '', 'a', '']"
      ]
     },
     "execution_count": 10,
     "metadata": {},
     "output_type": "execute_result"
    }
   ],
   "source": [
    "resultado = re.findall(r\"a*\", \"La casa amiga\")\n",
    "resultado"
   ]
  },
  {
   "cell_type": "code",
   "execution_count": null,
   "id": "f2ba9c8c",
   "metadata": {},
   "outputs": [
    {
     "name": "stdout",
     "output_type": "stream",
     "text": [
      "a -> (1, 2)\n",
      "a -> (4, 5)\n",
      "a -> (6, 7)\n"
     ]
    }
   ],
   "source": [
    "resultado = re.finditer(r\"a\", \"La casa\")\n",
    "for res in resultado:\n",
    "    print(f\"{res.group()} -> ({res.start()}, {res.end()})\")"
   ]
  },
  {
   "cell_type": "code",
   "execution_count": null,
   "id": "8d31759e",
   "metadata": {},
   "outputs": [
    {
     "name": "stdout",
     "output_type": "stream",
     "text": [
      " -> (0, 0)\n",
      "a -> (1, 2)\n",
      " -> (2, 2)\n",
      " -> (3, 3)\n",
      "a -> (4, 5)\n",
      " -> (5, 5)\n",
      "a -> (6, 7)\n",
      " -> (7, 7)\n"
     ]
    }
   ],
   "source": [
    "resultado = re.finditer(r\"a*\", \"La casa\")\n",
    "for res in resultado:\n",
    "    print(f\"{res.group()} -> ({res.start()}, {res.end()})\")"
   ]
  },
  {
   "cell_type": "code",
   "execution_count": null,
   "id": "ad807abd",
   "metadata": {},
   "outputs": [
    {
     "name": "stdout",
     "output_type": "stream",
     "text": [
      "asa -> (4, 7)\n",
      "a a -> (12, 15)\n"
     ]
    }
   ],
   "source": [
    "resultado = re.finditer(r\"a.a\", \"La casa de la ama\")\n",
    "for res in resultado:\n",
    "    print(f\"{res.group()} -> ({res.start()}, {res.end()})\")"
   ]
  }
 ],
 "metadata": {
  "kernelspec": {
   "display_name": "codewars (3.13.4)",
   "language": "python",
   "name": "python3"
  },
  "language_info": {
   "codemirror_mode": {
    "name": "ipython",
    "version": 3
   },
   "file_extension": ".py",
   "mimetype": "text/x-python",
   "name": "python",
   "nbconvert_exporter": "python",
   "pygments_lexer": "ipython3",
   "version": "3.13.4"
  }
 },
 "nbformat": 4,
 "nbformat_minor": 5
}
