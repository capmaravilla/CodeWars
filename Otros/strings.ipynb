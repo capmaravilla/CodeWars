{
 "cells": [
  {
   "cell_type": "code",
   "execution_count": 24,
   "id": "7c90e049",
   "metadata": {},
   "outputs": [],
   "source": [
    "from operator import concat\n",
    "import re\n",
    "\n",
    "\n",
    "def add_prefix_un(word):\n",
    "\n",
    "    return concat(\"un\", word)"
   ]
  },
  {
   "cell_type": "code",
   "execution_count": null,
   "id": "47756354",
   "metadata": {},
   "outputs": [
    {
     "name": "stdout",
     "output_type": "stream",
     "text": [
      "en :: enclose :: enjoy :: enlighten\n",
      "en :: enclose :: enjoy :: enlighten\n",
      "fr :: fren :: frclose :: frjoy :: frlighten\n"
     ]
    }
   ],
   "source": [
    "def make_word_groups(vocab_words: list[str]):\n",
    "\n",
    "    return (\n",
    "        vocab_words[0]\n",
    "        + \" :: \"\n",
    "        + \" :: \".join(list(map(lambda x: vocab_words[0] + x, vocab_words[1:])))\n",
    "    )\n",
    "\n",
    "\n",
    "def make_word_groups2(vocab_words: list[str]):\n",
    "    vocab_words.insert(1, \"\")\n",
    "    prefix, *words = vocab_words\n",
    "    return \" :: \".join(prefix + word for word in words)\n",
    "\n",
    "\n",
    "def make_word_groups3(vocab_words: list[str]):\n",
    "    return (\" :: \" + vocab_words[0]).join(vocab_words)\n",
    "\n",
    "\n",
    "print(make_word_groups([\"en\", \"close\", \"joy\", \"lighten\"]))\n",
    "print(make_word_groups2([\"en\", \"close\", \"joy\", \"lighten\"]))\n",
    "print(make_word_groups3([\"en\", \"close\", \"joy\", \"lighten\"]))"
   ]
  },
  {
   "cell_type": "code",
   "execution_count": null,
   "id": "2ffecd6e",
   "metadata": {},
   "outputs": [],
   "source": [
    "def remove_suffix_ness(word):\n",
    "    return word[:-4] if word[-5] != \"i\" else word[:-5] + \"y\"\n",
    "    return concat(word[:-5], \"y\") if word.endswith(\"iness\") else word[:-4]"
   ]
  },
  {
   "cell_type": "code",
   "execution_count": null,
   "id": "a77815b1",
   "metadata": {},
   "outputs": [
    {
     "name": "stdout",
     "output_type": "stream",
     "text": [
      "brighten\n",
      "brighten\n"
     ]
    }
   ],
   "source": [
    "def adjective_to_verb(sentence: str, index: int):\n",
    "    return sentence.split(\" \")[index][:-1] + \"en\"\n",
    "    return sentence.split()[index].strip(\".\") + \"en\"\n",
    "\n",
    "\n",
    "def adjective_to_verb2(sentence, index):\n",
    "    return concat(re.findall(r\"\\w+\", sentence)[index], \"en\")\n",
    "\n",
    "\n",
    "print(adjective_to_verb(\"I need to make that bright.\", -1))\n",
    "print(adjective_to_verb2(\"I need to make that bright.\", -1))"
   ]
  }
 ],
 "metadata": {
  "kernelspec": {
   "display_name": "codewars (3.13.4)",
   "language": "python",
   "name": "python3"
  },
  "language_info": {
   "codemirror_mode": {
    "name": "ipython",
    "version": 3
   },
   "file_extension": ".py",
   "mimetype": "text/x-python",
   "name": "python",
   "nbconvert_exporter": "python",
   "pygments_lexer": "ipython3",
   "version": "3.13.4"
  }
 },
 "nbformat": 4,
 "nbformat_minor": 5
}
