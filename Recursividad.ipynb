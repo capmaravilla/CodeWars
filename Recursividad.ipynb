{
 "cells": [
  {
   "cell_type": "code",
   "execution_count": null,
   "id": "536e2d88",
   "metadata": {},
   "outputs": [
    {
     "name": "stdout",
     "output_type": "stream",
     "text": [
      "78125\n",
      "78125\n"
     ]
    }
   ],
   "source": [
    "def potencia(base, exponente):\n",
    "    if exponente == 1:\n",
    "        return base\n",
    "    return base * potencia(base, exponente - 1)\n",
    "\n",
    "\n",
    "a, b = [5, 7]\n",
    "print(potencia(a, b))\n",
    "print(a**b)"
   ]
  },
  {
   "cell_type": "code",
   "execution_count": null,
   "id": "0e351670",
   "metadata": {},
   "outputs": [
    {
     "name": "stdout",
     "output_type": "stream",
     "text": [
      "11\n",
      "11\n"
     ]
    }
   ],
   "source": [
    "# Ejemplo: longitud(\"hola\") = 4\n",
    "def longitud(texto):\n",
    "    if len(texto) == 1:\n",
    "        return 1\n",
    "    return 1 + longitud(texto[1:])\n",
    "\n",
    "\n",
    "c = \"Wonderthing\"\n",
    "\n",
    "print(longitud(c))\n",
    "print(len(c))"
   ]
  },
  {
   "cell_type": "code",
   "execution_count": null,
   "id": "8f08ef40",
   "metadata": {},
   "outputs": [
    {
     "name": "stdout",
     "output_type": "stream",
     "text": [
      "10\n"
     ]
    }
   ],
   "source": [
    "# Ejemplo: sumar_digitos(1234) = 1+2+3+4 = 10\n",
    "def sumar_digitos(numero):\n",
    "    if len(str(numero)) == 1:\n",
    "        return numero\n",
    "    return int(str(numero)[-1]) + sumar_digitos(int(numero / 10))\n",
    "\n",
    "\n",
    "print(sumar_digitos(1234))"
   ]
  },
  {
   "cell_type": "code",
   "execution_count": null,
   "id": "10a181c1",
   "metadata": {},
   "outputs": [
    {
     "name": "stdout",
     "output_type": "stream",
     "text": [
      "4321\n"
     ]
    }
   ],
   "source": [
    "# Ejemplo: reverso(1234) = 4321\n",
    "def reverso(numero):\n",
    "    if numero < 10:\n",
    "        return numero\n",
    "    ultimo_digito = numero % 10\n",
    "    resto = numero // 10\n",
    "    longitud_resto = len(str(resto))\n",
    "    return ultimo_digito * (10**longitud_resto) + reverso(resto)\n",
    "\n",
    "\n",
    "print(reverso(1234))"
   ]
  },
  {
   "cell_type": "code",
   "execution_count": null,
   "id": "ac14e65d",
   "metadata": {},
   "outputs": [
    {
     "name": "stdout",
     "output_type": "stream",
     "text": [
      "5\n"
     ]
    }
   ],
   "source": [
    "# Ejemplo: fibonacci(5) = 5 (secuencia: 0,1,1,2,3,5)\n",
    "def fibonacci(n):\n",
    "    if n < 2:\n",
    "        return n\n",
    "    return fibonacci(n - 2) + fibonacci(n - 1)\n",
    "\n",
    "\n",
    "print(fibonacci(5))"
   ]
  },
  {
   "cell_type": "code",
   "execution_count": null,
   "id": "8a2c03dc",
   "metadata": {},
   "outputs": [
    {
     "name": "stdout",
     "output_type": "stream",
     "text": [
      "True\n"
     ]
    }
   ],
   "source": [
    "# Ejemplo: es_palindromo(\"radar\") = True\n",
    "def es_palindromo(palabra):\n",
    "    if len(palabra) <= 1:\n",
    "        return True\n",
    "    if palabra[0] != palabra[-1]:\n",
    "        return False\n",
    "    return es_palindromo(palabra[1:-1])\n",
    "\n",
    "\n",
    "print(es_palindromo(\"radar\"))"
   ]
  },
  {
   "cell_type": "code",
   "execution_count": 2,
   "id": "734739a9",
   "metadata": {},
   "outputs": [
    {
     "name": "stdout",
     "output_type": "stream",
     "text": [
      "7\n",
      "456\n"
     ]
    }
   ],
   "source": [
    "print(4567 % 10)\n",
    "print(4567 // 10)"
   ]
  },
  {
   "cell_type": "code",
   "execution_count": null,
   "id": "003596e8",
   "metadata": {},
   "outputs": [
    {
     "name": "stdout",
     "output_type": "stream",
     "text": [
      "3\n"
     ]
    }
   ],
   "source": [
    "def particiones(n):\n",
    "    def helper(n, min_num):\n",
    "        if n == 0:\n",
    "            return 1\n",
    "        if n < 0:\n",
    "            return 0\n",
    "\n",
    "        total = 0\n",
    "        for i in range(min_num, n + 1):\n",
    "            total += helper(n - i, i)\n",
    "\n",
    "        return total\n",
    "\n",
    "    return helper(n, 1)\n",
    "\n",
    "\n",
    "print(particiones(3))"
   ]
  },
  {
   "cell_type": "code",
   "execution_count": null,
   "id": "327e3df4",
   "metadata": {},
   "outputs": [],
   "source": [
    "def del_uno_al_cien(n: int):\n",
    "    if n < 1:\n",
    "        print(0)\n",
    "    else:\n",
    "        print(n)\n",
    "        del_uno_al_cien(n - 1)"
   ]
  },
  {
   "cell_type": "code",
   "execution_count": null,
   "id": "239861a2",
   "metadata": {},
   "outputs": [
    {
     "name": "stdout",
     "output_type": "stream",
     "text": [
      "6\n"
     ]
    }
   ],
   "source": [
    "def factorial_de(n: int):\n",
    "    if n < 1:\n",
    "        return 0\n",
    "    if n == 1:\n",
    "        return 1\n",
    "    else:\n",
    "        return n * factorial_de(n - 1)\n",
    "\n",
    "\n",
    "print(factorial_de(3))"
   ]
  },
  {
   "cell_type": "code",
   "execution_count": null,
   "id": "56320de7",
   "metadata": {},
   "outputs": [
    {
     "name": "stdout",
     "output_type": "stream",
     "text": [
      "5\n"
     ]
    }
   ],
   "source": [
    "def val_fibonacci(n: int):\n",
    "    if n < 0:\n",
    "        return \"Ha de ser un numero positivo\"\n",
    "    if n < 2:\n",
    "        return n\n",
    "    return val_fibonacci(n - 1) + val_fibonacci(n - 2)\n",
    "\n",
    "\n",
    "print(val_fibonacci(5))"
   ]
  },
  {
   "cell_type": "code",
   "execution_count": 38,
   "id": "37593417",
   "metadata": {},
   "outputs": [
    {
     "name": "stdout",
     "output_type": "stream",
     "text": [
      "1\n",
      "2\n",
      "3\n",
      "4\n",
      "5\n"
     ]
    }
   ],
   "source": [
    "def imprimir_numeros(inicio, limite):\n",
    "    if inicio <= limite:\n",
    "        print(inicio)\n",
    "        imprimir_numeros(inicio + 1, limite)\n",
    "\n",
    "\n",
    "imprimir_numeros(1, 5)"
   ]
  }
 ],
 "metadata": {
  "kernelspec": {
   "display_name": "codewars",
   "language": "python",
   "name": "python3"
  },
  "language_info": {
   "codemirror_mode": {
    "name": "ipython",
    "version": 3
   },
   "file_extension": ".py",
   "mimetype": "text/x-python",
   "name": "python",
   "nbconvert_exporter": "python",
   "pygments_lexer": "ipython3",
   "version": "3.13.4"
  }
 },
 "nbformat": 4,
 "nbformat_minor": 5
}
