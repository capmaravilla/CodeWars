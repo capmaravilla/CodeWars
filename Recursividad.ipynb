{
 "cells": [
  {
   "cell_type": "code",
   "execution_count": 3,
   "id": "536e2d88",
   "metadata": {},
   "outputs": [
    {
     "name": "stdout",
     "output_type": "stream",
     "text": [
      "78125\n",
      "78125\n"
     ]
    }
   ],
   "source": [
    "def potencia(base, exponente):\n",
    "    if exponente == 1:\n",
    "        return base\n",
    "    return base * potencia(base, exponente - 1)\n",
    "\n",
    "a,b = [5,7]\n",
    "print(potencia(a,b))\n",
    "print(a**b)"
   ]
  },
  {
   "cell_type": "code",
   "execution_count": null,
   "id": "0e351670",
   "metadata": {},
   "outputs": [
    {
     "name": "stdout",
     "output_type": "stream",
     "text": [
      "11\n",
      "11\n"
     ]
    }
   ],
   "source": [
    "# Ejemplo: longitud(\"hola\") = 4\n",
    "def longitud(texto):\n",
    "    if len(texto)==1:\n",
    "        return 1\n",
    "    return 1 + longitud(texto[1:])\n",
    "\n",
    "c = \"Wonderthing\"\n",
    "\n",
    "print(longitud(c))\n",
    "print(len(c))\n"
   ]
  },
  {
   "cell_type": "code",
   "execution_count": null,
   "id": "8f08ef40",
   "metadata": {},
   "outputs": [
    {
     "name": "stdout",
     "output_type": "stream",
     "text": [
      "10\n"
     ]
    }
   ],
   "source": [
    "# Ejemplo: sumar_digitos(1234) = 1+2+3+4 = 10\n",
    "def sumar_digitos(numero):\n",
    "    if len(str(numero)) == 1:\n",
    "        return numero\n",
    "    return int(str(numero)[-1]) + sumar_digitos(int(numero/10))\n",
    "\n",
    "print(sumar_digitos(1234))"
   ]
  },
  {
   "cell_type": "code",
   "execution_count": 4,
   "id": "10a181c1",
   "metadata": {},
   "outputs": [
    {
     "name": "stdout",
     "output_type": "stream",
     "text": [
      "4321\n"
     ]
    }
   ],
   "source": [
    "# Ejemplo: reverso(1234) = 4321\n",
    "def reverso(numero):\n",
    "  if numero < 10:\n",
    "    return numero\n",
    "  ultimo_digito = numero % 10\n",
    "  resto = numero // 10\n",
    "  longitud_resto = len(str(resto))\n",
    "  return ultimo_digito * (10**longitud_resto) + reverso(resto)\n",
    "\n",
    "print(reverso(1234))"
   ]
  },
  {
   "cell_type": "code",
   "execution_count": null,
   "id": "ac14e65d",
   "metadata": {},
   "outputs": [
    {
     "name": "stdout",
     "output_type": "stream",
     "text": [
      "5\n"
     ]
    }
   ],
   "source": [
    "# Ejemplo: fibonacci(5) = 5 (secuencia: 0,1,1,2,3,5)\n",
    "def fibonacci(n):\n",
    "  if n < 2:\n",
    "    return n\n",
    "  return fibonacci(n-2) + fibonacci(n-1)\n",
    "\n",
    "print(fibonacci(5))"
   ]
  },
  {
   "cell_type": "code",
   "execution_count": 7,
   "id": "8a2c03dc",
   "metadata": {},
   "outputs": [
    {
     "name": "stdout",
     "output_type": "stream",
     "text": [
      "True\n"
     ]
    }
   ],
   "source": [
    "# Ejemplo: es_palindromo(\"radar\") = True\n",
    "def es_palindromo(palabra):\n",
    "  if len(palabra) <= 1:\n",
    "    return True\n",
    "  if palabra[0]!=palabra[-1]:\n",
    "    return False\n",
    "  return es_palindromo(palabra[1:-1])\n",
    "\n",
    "print(es_palindromo(\"radar\"))"
   ]
  },
  {
   "cell_type": "code",
   "execution_count": 2,
   "id": "734739a9",
   "metadata": {},
   "outputs": [
    {
     "name": "stdout",
     "output_type": "stream",
     "text": [
      "7\n",
      "456\n"
     ]
    }
   ],
   "source": [
    "print(4567 % 10)\n",
    "print(4567 // 10)"
   ]
  }
 ],
 "metadata": {
  "kernelspec": {
   "display_name": "CodeWars",
   "language": "python",
   "name": "python3"
  },
  "language_info": {
   "codemirror_mode": {
    "name": "ipython",
    "version": 3
   },
   "file_extension": ".py",
   "mimetype": "text/x-python",
   "name": "python",
   "nbconvert_exporter": "python",
   "pygments_lexer": "ipython3",
   "version": "3.13.3"
  }
 },
 "nbformat": 4,
 "nbformat_minor": 5
}
