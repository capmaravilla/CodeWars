{
 "cells": [
  {
   "cell_type": "markdown",
   "id": "6f17104f",
   "metadata": {},
   "source": [
    "https://retosdeprogramacion.com/roadmap/\n"
   ]
  },
  {
   "cell_type": "code",
   "execution_count": 1,
   "id": "f1133915",
   "metadata": {},
   "outputs": [
    {
     "name": "stdout",
     "output_type": "stream",
     "text": [
      "Hola Python\n",
      "Python 3.13.4\n"
     ]
    }
   ],
   "source": [
    "# 00 Sintaxis, variables, tipos de datos y hola mundo\n",
    "\n",
    "print('Hola Python')\n",
    "!python --version"
   ]
  },
  {
   "cell_type": "code",
   "execution_count": null,
   "id": "eabb43a1",
   "metadata": {},
   "outputs": [],
   "source": [
    "\"\"\"\n",
    "Crea un programa que imprima por consola todos los números comprendidos entre 10 y 55 (incluidos),\n",
    "pares, y que no son ni el 16 ni múltiplos de 3.\n",
    "\"\"\"\n",
    "\n",
    "\n",
    "def ejercicio_numeros():\n",
    "    for i in range(10, 56):\n",
    "        if i % 2 == 0 and i != 16 and i % 3 != 0:\n",
    "            print(i)\n",
    "\n",
    "\n",
    "ejercicio_numeros()"
   ]
  },
  {
   "cell_type": "code",
   "execution_count": null,
   "id": "015c279e",
   "metadata": {},
   "outputs": [],
   "source": [
    "def cadena(str_1: str, str_2: str):\n",
    "    count: int = 0\n",
    "    for i in range(1, 101):\n",
    "        if i % 3 == 0 and i % 5 == 0:\n",
    "            print(str_1 + str_2)\n",
    "        elif i % 3 == 0:\n",
    "            print(str_1)\n",
    "        elif i % 5 == 0:\n",
    "            print(str_2)\n",
    "        else:\n",
    "            count += 1\n",
    "            print(i)"
   ]
  }
 ],
 "metadata": {
  "kernelspec": {
   "display_name": "codewars (3.13.4)",
   "language": "python",
   "name": "python3"
  },
  "language_info": {
   "codemirror_mode": {
    "name": "ipython",
    "version": 3
   },
   "file_extension": ".py",
   "mimetype": "text/x-python",
   "name": "python",
   "nbconvert_exporter": "python",
   "pygments_lexer": "ipython3",
   "version": "3.13.4"
  }
 },
 "nbformat": 4,
 "nbformat_minor": 5
}
