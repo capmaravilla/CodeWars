{
 "cells": [
  {
   "cell_type": "code",
   "execution_count": null,
   "id": "57bdb832",
   "metadata": {},
   "outputs": [
    {
     "data": {
      "text/plain": [
       "11"
      ]
     },
     "execution_count": 2,
     "metadata": {},
     "output_type": "execute_result"
    }
   ],
   "source": [
    "# 001 Retornar la suma de dos números\n",
    "def sumar(a: int, b: int):\n",
    "    return a + b\n",
    "\n",
    "\n",
    "sumar(5, 6)"
   ]
  },
  {
   "cell_type": "code",
   "execution_count": null,
   "id": "9c977e75",
   "metadata": {},
   "outputs": [
    {
     "data": {
      "text/plain": [
       "3600"
      ]
     },
     "execution_count": 5,
     "metadata": {},
     "output_type": "execute_result"
    }
   ],
   "source": [
    "# 002 Convertir minutos a segundos\n",
    "def minutos_a_segundos(minutos: int):\n",
    "    return minutos * 60\n",
    "\n",
    "\n",
    "minutos_a_segundos(60)"
   ]
  },
  {
   "cell_type": "code",
   "execution_count": null,
   "id": "ab89a480",
   "metadata": {},
   "outputs": [
    {
     "data": {
      "text/plain": [
       "10"
      ]
     },
     "execution_count": 6,
     "metadata": {},
     "output_type": "execute_result"
    }
   ],
   "source": [
    "# 003 Retornar el siguiente número entero\n",
    "def suma_uno(n: int):\n",
    "    return n + 1\n",
    "\n",
    "\n",
    "suma_uno(9)"
   ]
  },
  {
   "cell_type": "code",
   "execution_count": null,
   "id": "dc193f62",
   "metadata": {},
   "outputs": [
    {
     "data": {
      "text/plain": [
       "6.0"
      ]
     },
     "execution_count": 1,
     "metadata": {},
     "output_type": "execute_result"
    }
   ],
   "source": [
    "# 004 Área de un triágulo\n",
    "def area_triangulo(base: int, altura: int):\n",
    "    return base * altura / 2\n",
    "\n",
    "\n",
    "area_triangulo(3, 4)"
   ]
  },
  {
   "cell_type": "code",
   "execution_count": null,
   "id": "c86e8239",
   "metadata": {},
   "outputs": [
    {
     "data": {
      "text/plain": [
       "1"
      ]
     },
     "execution_count": 2,
     "metadata": {},
     "output_type": "execute_result"
    }
   ],
   "source": [
    "# 005 Retornar el primer elemento de un array\n",
    "def obtener_primer_elemento(lista):\n",
    "    return lista[0]\n",
    "\n",
    "\n",
    "numeros = [1, 2, 3, 4, 5]\n",
    "obtener_primer_elemento(numeros)"
   ]
  },
  {
   "cell_type": "code",
   "execution_count": null,
   "id": "34ed2e5b",
   "metadata": {},
   "outputs": [
    {
     "data": {
      "text/plain": [
       "330"
      ]
     },
     "execution_count": 3,
     "metadata": {},
     "output_type": "execute_result"
    }
   ],
   "source": [
    "# 006 Calculadora de potencia electrica\n",
    "def potencia(voltaje: int, intensidad: int):\n",
    "    return voltaje * intensidad\n",
    "\n",
    "\n",
    "potencia(110, 3)"
   ]
  },
  {
   "cell_type": "code",
   "execution_count": null,
   "id": "8303b318",
   "metadata": {},
   "outputs": [
    {
     "data": {
      "text/plain": [
       "86400"
      ]
     },
     "execution_count": 4,
     "metadata": {},
     "output_type": "execute_result"
    }
   ],
   "source": [
    "# 007 Convertir horas a segundos\n",
    "def horas_a_segundos(horas):\n",
    "    return horas * 3600\n",
    "\n",
    "\n",
    "horas_a_segundos(24)"
   ]
  },
  {
   "cell_type": "code",
   "execution_count": null,
   "id": "4ab643c3",
   "metadata": {},
   "outputs": [
    {
     "data": {
      "text/plain": [
       "4"
      ]
     },
     "execution_count": 6,
     "metadata": {},
     "output_type": "execute_result"
    }
   ],
   "source": [
    "# 008 Retornar el resto\n",
    "def mod(numerador, denominador):\n",
    "    return numerador % denominador\n",
    "\n",
    "\n",
    "mod(24, 5)"
   ]
  },
  {
   "cell_type": "code",
   "execution_count": null,
   "id": "86eede02",
   "metadata": {},
   "outputs": [
    {
     "data": {
      "text/plain": [
       "6"
      ]
     },
     "execution_count": 7,
     "metadata": {},
     "output_type": "execute_result"
    }
   ],
   "source": [
    "# 009 Retornar un string como integer\n",
    "def string_to_int(txt: str) -> int:\n",
    "    return int(txt)\n",
    "\n",
    "\n",
    "string_to_int(\"6\")"
   ]
  },
  {
   "cell_type": "code",
   "execution_count": 8,
   "id": "0337697b",
   "metadata": {},
   "outputs": [
    {
     "data": {
      "text/plain": [
       "26"
      ]
     },
     "execution_count": 8,
     "metadata": {},
     "output_type": "execute_result"
    }
   ],
   "source": [
    "# 010 Encontrar el perímetro de un rectángulo\n",
    "def perimetro(largo: int, ancho: int):\n",
    "    return (largo + ancho) * 2\n",
    "\n",
    "\n",
    "perimetro(6, 7)"
   ]
  },
  {
   "cell_type": "code",
   "execution_count": null,
   "id": "e6c0fa04",
   "metadata": {},
   "outputs": [
    {
     "data": {
      "text/plain": [
       "'Mi camino'"
      ]
     },
     "execution_count": 9,
     "metadata": {},
     "output_type": "execute_result"
    }
   ],
   "source": [
    "# 011 Es mío\n",
    "def algo_mio(txt: str):\n",
    "    return f\"Mi {txt}\"\n",
    "\n",
    "\n",
    "algo_mio(\"camino\")"
   ]
  },
  {
   "cell_type": "code",
   "execution_count": null,
   "id": "01ffaf2e",
   "metadata": {},
   "outputs": [
    {
     "data": {
      "text/plain": [
       "True"
      ]
     },
     "execution_count": 10,
     "metadata": {},
     "output_type": "execute_result"
    }
   ],
   "source": [
    "# 012 ¿Es un número negativo?\n",
    "def menor_o_igual_a_cero(num: int) -> bool:\n",
    "    return num <= 0\n",
    "\n",
    "\n",
    "menor_o_igual_a_cero(-5)"
   ]
  },
  {
   "cell_type": "code",
   "execution_count": null,
   "id": "abf7cd58",
   "metadata": {},
   "outputs": [
    {
     "data": {
      "text/plain": [
       "'Hola David!'"
      ]
     },
     "execution_count": 11,
     "metadata": {},
     "output_type": "execute_result"
    }
   ],
   "source": [
    "# 013 Saludar con nombre\n",
    "def saludar(nombre: str):\n",
    "    return f\"Hola {nombre}!\"\n",
    "\n",
    "\n",
    "saludar(\"David\")"
   ]
  },
  {
   "cell_type": "code",
   "execution_count": null,
   "id": "a7baca81",
   "metadata": {},
   "outputs": [
    {
     "data": {
      "text/plain": [
       "'Hello, my Love!'"
      ]
     },
     "execution_count": 13,
     "metadata": {},
     "output_type": "execute_result"
    }
   ],
   "source": [
    "# 014 Saludo especial\n",
    "def greeting(name: str):\n",
    "    if name == \"Ares\":\n",
    "        return \"Hello, my Love!\"\n",
    "    return \"Hello, \" + name + \"!\"\n",
    "\n",
    "\n",
    "greeting(\"David\")\n",
    "greeting(\"Ares\")"
   ]
  },
  {
   "cell_type": "code",
   "execution_count": null,
   "id": "c769b0f1",
   "metadata": {},
   "outputs": [
    {
     "data": {
      "text/plain": [
       "720"
      ]
     },
     "execution_count": 14,
     "metadata": {},
     "output_type": "execute_result"
    }
   ],
   "source": [
    "# 015 Sumar los ángulos de un polígono\n",
    "def grados_poligono(n: int):\n",
    "    return (n - 2) * 180\n",
    "\n",
    "\n",
    "grados_poligono(6)"
   ]
  },
  {
   "cell_type": "code",
   "execution_count": null,
   "id": "5b632912",
   "metadata": {},
   "outputs": [
    {
     "data": {
      "text/plain": [
       "125"
      ]
     },
     "execution_count": 17,
     "metadata": {},
     "output_type": "execute_result"
    }
   ],
   "source": [
    "# 016 Calculando potencias\n",
    "from math import pow\n",
    "\n",
    "\n",
    "def calcular_potencias(base: int, exponente: int):\n",
    "    return base**exponente\n",
    "    return pow(base, exponente)\n",
    "\n",
    "\n",
    "calcular_potencias(5, 3)"
   ]
  },
  {
   "cell_type": "code",
   "execution_count": null,
   "id": "f60c4b17",
   "metadata": {},
   "outputs": [
    {
     "data": {
      "text/plain": [
       "str"
      ]
     },
     "execution_count": 19,
     "metadata": {},
     "output_type": "execute_result"
    }
   ],
   "source": [
    "# 017 Conversión de Booleano a String\n",
    "def bool_to_string(flag: bool):\n",
    "    return str(flag)\n",
    "    # return \"True\" if flag else \"False\"\n",
    "\n",
    "\n",
    "sample = bool_to_string(True)\n",
    "type(sample)"
   ]
  },
  {
   "cell_type": "code",
   "execution_count": null,
   "id": "6ec9de5e",
   "metadata": {},
   "outputs": [
    {
     "data": {
      "text/plain": [
       "29"
      ]
     },
     "execution_count": 22,
     "metadata": {},
     "output_type": "execute_result"
    }
   ],
   "source": [
    "# 018 Puntos de baloncesto\n",
    "def puntos(tiros_de_dos: int, tiros_de_tres: int):\n",
    "    return (tiros_de_dos * 2) + (tiros_de_tres * 3)\n",
    "\n",
    "\n",
    "puntos(7, 5)"
   ]
  },
  {
   "cell_type": "code",
   "execution_count": null,
   "id": "5259525a",
   "metadata": {},
   "outputs": [
    {
     "data": {
      "text/plain": [
       "False"
      ]
     },
     "execution_count": 26,
     "metadata": {},
     "output_type": "execute_result"
    }
   ],
   "source": [
    "# 019 ¿Menos de cien?\n",
    "def menor_que_cien(num1: int, num2: int):\n",
    "    return num1 + num2 < 100\n",
    "\n",
    "\n",
    "menor_que_cien(25, 75)"
   ]
  },
  {
   "cell_type": "code",
   "execution_count": 35,
   "id": "f7b24b64",
   "metadata": {},
   "outputs": [
    {
     "data": {
      "text/plain": [
       "7"
      ]
     },
     "execution_count": 35,
     "metadata": {},
     "output_type": "execute_result"
    }
   ],
   "source": [
    "# 020 Máximo de una lista\n",
    "def maximo(lista: list[int]):\n",
    "    return max(lista)\n",
    "    # return sorted(lista)[-1]\n",
    "\n",
    "\n",
    "nums = [1, 5, 4, 7, 2]\n",
    "\n",
    "maximo(nums)"
   ]
  }
 ],
 "metadata": {
  "kernelspec": {
   "display_name": "codewars (3.13.4)",
   "language": "python",
   "name": "python3"
  },
  "language_info": {
   "codemirror_mode": {
    "name": "ipython",
    "version": 3
   },
   "file_extension": ".py",
   "mimetype": "text/x-python",
   "name": "python",
   "nbconvert_exporter": "python",
   "pygments_lexer": "ipython3",
   "version": "3.13.4"
  }
 },
 "nbformat": 4,
 "nbformat_minor": 5
}
