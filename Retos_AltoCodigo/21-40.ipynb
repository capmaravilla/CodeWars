{
 "cells": [
  {
   "cell_type": "code",
   "execution_count": null,
   "id": "efd53c35",
   "metadata": {},
   "outputs": [
    {
     "data": {
      "text/plain": [
       "-76"
      ]
     },
     "execution_count": 4,
     "metadata": {},
     "output_type": "execute_result"
    }
   ],
   "source": [
    "# 021 Mínimo una lista\n",
    "def minimo(lista: list[float | int]):\n",
    "    return min(lista)\n",
    "    return sorted(lista)[0]\n",
    "\n",
    "\n",
    "numeros = [-76, 1.345, 1, 0]\n",
    "\n",
    "minimo(numeros)"
   ]
  },
  {
   "cell_type": "code",
   "execution_count": null,
   "id": "e06a6f2d",
   "metadata": {},
   "outputs": [
    {
     "data": {
      "text/plain": [
       "82"
      ]
     },
     "execution_count": 5,
     "metadata": {},
     "output_type": "execute_result"
    }
   ],
   "source": [
    "# 022 Diferencia entre el Max y el Min de una lista\n",
    "def dif(lista: list[int]):\n",
    "    return max(lista) - min(lista)\n",
    "\n",
    "\n",
    "dif([10, 4, 1, 4, -50, 32, 21])"
   ]
  },
  {
   "cell_type": "code",
   "execution_count": null,
   "id": "7de7409d",
   "metadata": {},
   "outputs": [
    {
     "data": {
      "text/plain": [
       "[1, 3, 5, 2, 6, 8]"
      ]
     },
     "execution_count": 9,
     "metadata": {},
     "output_type": "execute_result"
    }
   ],
   "source": [
    "# 23 Concatenando dos lista de enteros\n",
    "def concat(arr1, arr2):\n",
    "    return arr1 + arr2\n",
    "\n",
    "\n",
    "concat([1, 3, 5], [2, 6, 8])"
   ]
  },
  {
   "cell_type": "code",
   "execution_count": null,
   "id": "10b098f7",
   "metadata": {},
   "outputs": [
    {
     "data": {
      "text/plain": [
       "[1, 2, 3]"
      ]
     },
     "execution_count": 15,
     "metadata": {},
     "output_type": "execute_result"
    }
   ],
   "source": [
    "# 024 Retornar el último elemento de una lista\n",
    "def ultimo(lst):\n",
    "    return lst[-1] if len(lst) > 0 else None\n",
    "\n",
    "\n",
    "ultimo([7, \"String\", False, [1, 2, 3]])"
   ]
  },
  {
   "cell_type": "code",
   "execution_count": null,
   "id": "adb301a1",
   "metadata": {},
   "outputs": [
    {
     "data": {
      "text/plain": [
       "[1, 2, 3, 4, 5, 6]"
      ]
     },
     "execution_count": 18,
     "metadata": {},
     "output_type": "execute_result"
    }
   ],
   "source": [
    "# 025 ¡Jorge creó un bucle infinito!\n",
    "def generar_array(n):\n",
    "    numeros = []\n",
    "    i = 0\n",
    "    while i < n:\n",
    "        i += 1\n",
    "        numeros.append(i)\n",
    "\n",
    "    return numeros\n",
    "\n",
    "\n",
    "generar_array(6)"
   ]
  },
  {
   "cell_type": "code",
   "execution_count": null,
   "id": "e85626bd",
   "metadata": {},
   "outputs": [
    {
     "data": {
      "text/plain": [
       "[200, 100]"
      ]
     },
     "execution_count": 22,
     "metadata": {},
     "output_type": "execute_result"
    }
   ],
   "source": [
    "# 026 ¡Lucía quiere intercambiar dos números!\n",
    "def swap(a, b):\n",
    "    b2 = a\n",
    "    a2 = b\n",
    "    return [a2, b2]\n",
    "\n",
    "\n",
    "swap(100, 200)"
   ]
  },
  {
   "cell_type": "code",
   "execution_count": null,
   "id": "141ed3a3",
   "metadata": {},
   "outputs": [
    {
     "data": {
      "text/plain": [
       "36"
      ]
     },
     "execution_count": 23,
     "metadata": {},
     "output_type": "execute_result"
    }
   ],
   "source": [
    "# 027 Recuento en la granja\n",
    "def patas(gallinas, vacas, cerdos):\n",
    "    return gallinas * 2 + vacas * 4 + cerdos * 4\n",
    "\n",
    "\n",
    "patas(2, 3, 5)"
   ]
  },
  {
   "cell_type": "code",
   "execution_count": null,
   "id": "68057967",
   "metadata": {},
   "outputs": [
    {
     "data": {
      "text/plain": [
       "False"
      ]
     },
     "execution_count": 26,
     "metadata": {},
     "output_type": "execute_result"
    }
   ],
   "source": [
    "# 028 Operador lógico and\n",
    "def funcion_and(a, b):\n",
    "    return a and b\n",
    "\n",
    "\n",
    "funcion_and(False, False)"
   ]
  },
  {
   "cell_type": "code",
   "execution_count": null,
   "id": "07ae2b95",
   "metadata": {},
   "outputs": [
    {
     "data": {
      "text/plain": [
       "True"
      ]
     },
     "execution_count": 27,
     "metadata": {},
     "output_type": "execute_result"
    }
   ],
   "source": [
    "# 029 ¿Son iguales los números?\n",
    "def son_iguales(num1, num2):\n",
    "    return num1 == num2\n",
    "\n",
    "\n",
    "son_iguales(2, 6 / 3)"
   ]
  },
  {
   "cell_type": "code",
   "execution_count": 29,
   "id": "5da95b12",
   "metadata": {},
   "outputs": [
    {
     "data": {
      "text/plain": [
       "13"
      ]
     },
     "execution_count": 29,
     "metadata": {},
     "output_type": "execute_result"
    }
   ],
   "source": [
    "# 030 Juego de mesa\n",
    "def puntos_obtenidos(victorias, empates, derrotas=0):\n",
    "    return victorias * 3 + empates * 1 + derrotas * 0\n",
    "\n",
    "\n",
    "puntos_obtenidos(3, 4)"
   ]
  },
  {
   "cell_type": "code",
   "execution_count": null,
   "id": "10cc746a",
   "metadata": {},
   "outputs": [
    {
     "data": {
      "text/plain": [
       "3780"
      ]
     },
     "execution_count": 32,
     "metadata": {},
     "output_type": "execute_result"
    }
   ],
   "source": [
    "# 031 Convertir horas y minutos en segundos\n",
    "def convertir_a_segundos(horas, minutos):\n",
    "    return horas * 3600 + minutos * 60\n",
    "\n",
    "\n",
    "convertir_a_segundos(1, 3)"
   ]
  },
  {
   "cell_type": "code",
   "execution_count": null,
   "id": "589a898e",
   "metadata": {},
   "outputs": [
    {
     "data": {
      "text/plain": [
       "4"
      ]
     },
     "execution_count": 33,
     "metadata": {},
     "output_type": "execute_result"
    }
   ],
   "source": [
    "# 032 Diccionario de colores\n",
    "def cantidad_colores(diccionario):\n",
    "    return len(diccionario)\n",
    "\n",
    "\n",
    "cantidad_colores({\"rojo\": \"red\", \"azul\": \"blue\", \"amarillo\": \"yellow\", \"rosa\": \"pink\"})"
   ]
  },
  {
   "cell_type": "code",
   "execution_count": null,
   "id": "1e8d1f70",
   "metadata": {},
   "outputs": [
    {
     "name": "stdout",
     "output_type": "stream",
     "text": [
      "77\n",
      "<class 'int'>\n",
      "<class 'str'>\n"
     ]
    }
   ],
   "source": [
    "# 033 De String a Integer y viceversa\n",
    "def to_int(txt):\n",
    "    return int(txt)\n",
    "\n",
    "\n",
    "def to_str(num):\n",
    "    return str(num)\n",
    "\n",
    "\n",
    "print(type(to_int(\"532\")))\n",
    "print(type(to_str(77)))"
   ]
  },
  {
   "cell_type": "code",
   "execution_count": null,
   "id": "f9dca881",
   "metadata": {},
   "outputs": [
    {
     "data": {
      "text/plain": [
       "True"
      ]
     },
     "execution_count": 45,
     "metadata": {},
     "output_type": "execute_result"
    }
   ],
   "source": [
    "# 034 Dos diccionarios iguales\n",
    "def son_iguales(objeto1, objeto2):\n",
    "    for value in objeto1:\n",
    "        if objeto1[value] != objeto2[value]:\n",
    "            return False\n",
    "    return True\n",
    "\n",
    "\n",
    "# The first object parameter.\n",
    "obj_one = {\"name\": \"Alex\", \"phone\": \"687654321\", \"email\": \"alex@gmail.com\"}\n",
    "\n",
    "# The second object parameter.\n",
    "obj_two = {\"name\": \"Alex\", \"email\": \"alex@gmail.com\", \"phone\": \"687654321\"}\n",
    "\n",
    "son_iguales(obj_one, obj_two)"
   ]
  },
  {
   "cell_type": "code",
   "execution_count": 48,
   "id": "46ef5a6c",
   "metadata": {},
   "outputs": [
    {
     "data": {
      "text/plain": [
       "False"
      ]
     },
     "execution_count": 48,
     "metadata": {},
     "output_type": "execute_result"
    }
   ],
   "source": [
    "# 035 Operador Ternario\n",
    "def es_siete(x):\n",
    "    return True if x == 7 else False\n",
    "\n",
    "\n",
    "es_siete(5)"
   ]
  },
  {
   "cell_type": "code",
   "execution_count": 50,
   "id": "1d4dbc25",
   "metadata": {},
   "outputs": [
    {
     "data": {
      "text/plain": [
       "False"
      ]
     },
     "execution_count": 50,
     "metadata": {},
     "output_type": "execute_result"
    }
   ],
   "source": [
    "# 036 Control de igualdad\n",
    "def check_igualdad(a, b):\n",
    "    return a == b and type(a) == type(b)\n",
    "\n",
    "\n",
    "check_igualdad(1, True)"
   ]
  },
  {
   "cell_type": "code",
   "execution_count": null,
   "id": "0bcc5580",
   "metadata": {},
   "outputs": [
    {
     "data": {
      "text/plain": [
       "True"
      ]
     },
     "execution_count": 53,
     "metadata": {},
     "output_type": "execute_result"
    }
   ],
   "source": [
    "# 037 Dos hacen Diez\n",
    "def es_diez(a, b):\n",
    "    return a + b == 10 or a == 10 or b == 10\n",
    "\n",
    "\n",
    "es_diez(9, 1)"
   ]
  },
  {
   "cell_type": "code",
   "execution_count": 56,
   "id": "22345ca1",
   "metadata": {},
   "outputs": [
    {
     "data": {
      "text/plain": [
       "True"
      ]
     },
     "execution_count": 56,
     "metadata": {},
     "output_type": "execute_result"
    }
   ],
   "source": [
    "# 038 Divisible por cinco\n",
    "def divisible_por_cinco(n):\n",
    "    return n % 5 == 0\n",
    "\n",
    "\n",
    "divisible_por_cinco(5)"
   ]
  },
  {
   "cell_type": "code",
   "execution_count": 57,
   "id": "9b2c0aec",
   "metadata": {},
   "outputs": [
    {
     "data": {
      "text/plain": [
       "True"
      ]
     },
     "execution_count": 57,
     "metadata": {},
     "output_type": "execute_result"
    }
   ],
   "source": [
    "# 039 Apuesta rentable\n",
    "def apuesta_rentable(probabilidad, premio, pago):\n",
    "    return probabilidad * premio > pago\n",
    "\n",
    "\n",
    "apuesta_rentable(0.2, 50, 9)"
   ]
  },
  {
   "cell_type": "code",
   "execution_count": 58,
   "id": "29158c43",
   "metadata": {},
   "outputs": [
    {
     "data": {
      "text/plain": [
       "13"
      ]
     },
     "execution_count": 58,
     "metadata": {},
     "output_type": "execute_result"
    }
   ],
   "source": [
    "# 040 Suma de los elementos de una lista\n",
    "def suma_elementos(lista):\n",
    "    return sum(lista)\n",
    "\n",
    "\n",
    "suma_elementos([2, 7, 4])"
   ]
  }
 ],
 "metadata": {
  "kernelspec": {
   "display_name": "codewars (3.13.4)",
   "language": "python",
   "name": "python3"
  },
  "language_info": {
   "codemirror_mode": {
    "name": "ipython",
    "version": 3
   },
   "file_extension": ".py",
   "mimetype": "text/x-python",
   "name": "python",
   "nbconvert_exporter": "python",
   "pygments_lexer": "ipython3",
   "version": "3.13.4"
  }
 },
 "nbformat": 4,
 "nbformat_minor": 5
}
