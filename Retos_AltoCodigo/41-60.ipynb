{
 "cells": [
  {
   "cell_type": "code",
   "execution_count": 2,
   "id": "1f19624b",
   "metadata": {},
   "outputs": [
    {
     "data": {
      "text/plain": [
       "['mayo', 31]"
      ]
     },
     "execution_count": 2,
     "metadata": {},
     "output_type": "execute_result"
    }
   ],
   "source": [
    "# 041 Días del mes\n",
    "def dias_mes(n):\n",
    "    d = {\n",
    "        1: [\"enero\", 31],\n",
    "        2: [\"febrero\", 28],\n",
    "        3: [\"marzo\", 31],\n",
    "        4: [\"abril\", 30],\n",
    "        5: [\"mayo\", 31],\n",
    "        6: [\"junio\", 30],\n",
    "        7: [\"julio\", 31],\n",
    "        8: [\"agosto\", 31],\n",
    "        9: [\"septiembre\", 30],\n",
    "        10: [\"octubre\", 31],\n",
    "        11: [\"noviembre\", 30],\n",
    "        12: [\"diciembre\", 31],\n",
    "    }\n",
    "    return d[n]\n",
    "\n",
    "\n",
    "dias_mes(5)"
   ]
  },
  {
   "cell_type": "code",
   "execution_count": 5,
   "id": "d1988fc6",
   "metadata": {},
   "outputs": [
    {
     "data": {
      "text/plain": [
       "True"
      ]
     },
     "execution_count": 5,
     "metadata": {},
     "output_type": "execute_result"
    }
   ],
   "source": [
    "# 42 Múltiplo de cien\n",
    "def divisible(n):\n",
    "    return n % 100 == 0\n",
    "\n",
    "\n",
    "divisible(1000)"
   ]
  },
  {
   "cell_type": "code",
   "execution_count": 6,
   "id": "b158c98a",
   "metadata": {},
   "outputs": [
    {
     "data": {
      "text/plain": [
       "True"
      ]
     },
     "execution_count": 6,
     "metadata": {},
     "output_type": "execute_result"
    }
   ],
   "source": [
    "# 043 Comprobar si K elevado a K = n\n",
    "def k_to_k(k, n):\n",
    "    return k**k == n\n",
    "\n",
    "\n",
    "k_to_k(9, 387420489)"
   ]
  },
  {
   "cell_type": "code",
   "execution_count": null,
   "id": "8c9e44fc",
   "metadata": {},
   "outputs": [
    {
     "data": {
      "text/plain": [
       "7"
      ]
     },
     "execution_count": 8,
     "metadata": {},
     "output_type": "execute_result"
    }
   ],
   "source": [
    "# 044 Despistes al programar\n",
    "def max_num(n1, n2):\n",
    "    if n1 < n2:\n",
    "        return n2\n",
    "    return n1\n",
    "\n",
    "\n",
    "max_num(3, 7)"
   ]
  },
  {
   "cell_type": "code",
   "execution_count": 10,
   "id": "5719c739",
   "metadata": {},
   "outputs": [
    {
     "data": {
      "text/plain": [
       "True"
      ]
     },
     "execution_count": 10,
     "metadata": {},
     "output_type": "execute_result"
    }
   ],
   "source": [
    "# 045 Comparar cadenas por número de caracteres\n",
    "def compare(a, b):\n",
    "    return len(a) == len(b)\n",
    "\n",
    "\n",
    "compare(\"holfla\", \"Madrid\")"
   ]
  },
  {
   "cell_type": "code",
   "execution_count": 17,
   "id": "9de606dc",
   "metadata": {},
   "outputs": [
    {
     "data": {
      "text/plain": [
       "'174198 pierdes'"
      ]
     },
     "execution_count": 17,
     "metadata": {},
     "output_type": "execute_result"
    }
   ],
   "source": [
    "# 046 Si hay un tres ganas\n",
    "import random as rd\n",
    "\n",
    "\n",
    "def gana_el_tres():\n",
    "    n = rd.randint(100000, 200000)\n",
    "    for i in str(n):\n",
    "        if i == \"3\":\n",
    "            return f\"{n} ganas\"\n",
    "    return f\"{n} pierdes\"\n",
    "\n",
    "\n",
    "gana_el_tres()"
   ]
  },
  {
   "cell_type": "code",
   "execution_count": 19,
   "id": "065ea041",
   "metadata": {},
   "outputs": [
    {
     "data": {
      "text/plain": [
       "150"
      ]
     },
     "execution_count": 19,
     "metadata": {},
     "output_type": "execute_result"
    }
   ],
   "source": [
    "# 047 Recargando baterías\n",
    "def calcula_carga(distancia):\n",
    "    if distancia <= 10:\n",
    "        return 100\n",
    "    return distancia * 10\n",
    "\n",
    "\n",
    "calcula_carga(15)"
   ]
  },
  {
   "cell_type": "code",
   "execution_count": 27,
   "id": "bc1c9694",
   "metadata": {},
   "outputs": [
    {
     "data": {
      "text/plain": [
       "True"
      ]
     },
     "execution_count": 27,
     "metadata": {},
     "output_type": "execute_result"
    }
   ],
   "source": [
    "# 048 ¿Está vacía la cadena?\n",
    "def esta_vacia(cadena):\n",
    "    return len(cadena) == 0\n",
    "    # for i in cadena:\n",
    "    #   return True\n",
    "    # return False\n",
    "\n",
    "\n",
    "esta_vacia(\"\")"
   ]
  },
  {
   "cell_type": "code",
   "execution_count": 34,
   "id": "9361a854",
   "metadata": {},
   "outputs": [
    {
     "data": {
      "text/plain": [
       "-7"
      ]
     },
     "execution_count": 34,
     "metadata": {},
     "output_type": "execute_result"
    }
   ],
   "source": [
    "# 049 Devolver negativo\n",
    "def devuelve_negativo(numero):\n",
    "    return numero * -1 if numero > 0 else numero\n",
    "\n",
    "\n",
    "devuelve_negativo(7)"
   ]
  },
  {
   "cell_type": "code",
   "execution_count": 46,
   "id": "b67ba28f",
   "metadata": {},
   "outputs": [
    {
     "data": {
      "text/plain": [
       "False"
      ]
     },
     "execution_count": 46,
     "metadata": {},
     "output_type": "execute_result"
    }
   ],
   "source": [
    "# 050 ¿Suma la lista menos de cien?\n",
    "def menos_de_cien(lista):\n",
    "    return sum(lista) < 100\n",
    "\n",
    "\n",
    "menos_de_cien([7, 33, 15, 25, 20])"
   ]
  }
 ],
 "metadata": {
  "kernelspec": {
   "display_name": "codewars (3.13.4)",
   "language": "python",
   "name": "python3"
  },
  "language_info": {
   "codemirror_mode": {
    "name": "ipython",
    "version": 3
   },
   "file_extension": ".py",
   "mimetype": "text/x-python",
   "name": "python",
   "nbconvert_exporter": "python",
   "pygments_lexer": "ipython3",
   "version": "3.13.4"
  }
 },
 "nbformat": 4,
 "nbformat_minor": 5
}
