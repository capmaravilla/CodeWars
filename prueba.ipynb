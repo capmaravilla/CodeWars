{
 "cells": [
  {
   "cell_type": "markdown",
   "id": "8b3e833c",
   "metadata": {},
   "source": [
    "https://www.codewars.com/kata/52ec24228a515e620b0005ef/python"
   ]
  },
  {
   "cell_type": "code",
   "execution_count": null,
   "id": "fa6caff3",
   "metadata": {},
   "outputs": [
    {
     "name": "stdout",
     "output_type": "stream",
     "text": [
      "5\n"
     ]
    }
   ],
   "source": [
    "# TODO este ejemplo esta muy bien para estudiar funciones recursivas\n",
    "\n",
    "def particiones(n):\n",
    "    def helper(n, min_num):\n",
    "        if n == 0:\n",
    "            return 1\n",
    "        if n < 0:\n",
    "            return 0\n",
    "\n",
    "        total = 0\n",
    "        for i in range(min_num, n + 1):\n",
    "            total += helper(n - i, i)\n",
    "\n",
    "        return total\n",
    "\n",
    "    return helper(n, 1)\n",
    "\n",
    "print(particiones(4))"
   ]
  }
 ],
 "metadata": {
  "kernelspec": {
   "display_name": "CodeWars",
   "language": "python",
   "name": "python3"
  },
  "language_info": {
   "codemirror_mode": {
    "name": "ipython",
    "version": 3
   },
   "file_extension": ".py",
   "mimetype": "text/x-python",
   "name": "python",
   "nbconvert_exporter": "python",
   "pygments_lexer": "ipython3",
   "version": "3.13.3"
  }
 },
 "nbformat": 4,
 "nbformat_minor": 5
}
