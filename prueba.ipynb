{
 "cells": [
  {
   "cell_type": "markdown",
   "id": "7d226514",
   "metadata": {},
   "source": [
    "https://www.codewars.com/kata/52b7ed099cdc285c300001cd/python"
   ]
  },
  {
   "cell_type": "code",
   "execution_count": null,
   "id": "7b7c3da5",
   "metadata": {},
   "outputs": [
    {
     "name": "stdout",
     "output_type": "stream",
     "text": [
      "[[-365, 27], [-310, -171], [-244, 71], [-89, 78], [-15, 488], [18, 331], [290, 364]]\n",
      "1084\n"
     ]
    }
   ],
   "source": [
    "def sum_of_intervals(intervals):\n",
    "    cache = []\n",
    "    for i in intervals:\n",
    "        for j in range(i[0],i[1]):\n",
    "            cache.append(j)\n",
    "    return len(set(cache))\n",
    "\n",
    "def sum_of_intervals1(intervals):\n",
    "    cache = []\n",
    "    intervals.sort()\n",
    "    sample = list(map(lambda x: list(x),intervals))\n",
    "    print(sample)\n",
    "    for idx,value in enumerate(sample[:-1]):\n",
    "        if sample[idx][1] > sample[idx+1][0]:\n",
    "            sample[idx+1][0] = sample[idx][1]\n",
    "\n",
    "    for i in sample:\n",
    "        cache.append(len(range(i[0],i[1])))\n",
    "    return sum(cache)\n",
    "\n",
    "# print(sum_of_intervals1([(0, 20), (-100_000_000, 10), (30, 40)]))\n",
    "print(sum_of_intervals1([[-365, 27], [-310, -171], [-244, 71], [-89, 78], [-15, 488], [18, 331], [290, 364]]))"
   ]
  },
  {
   "cell_type": "code",
   "execution_count": 18,
   "id": "6337a5e6",
   "metadata": {},
   "outputs": [
    {
     "name": "stdout",
     "output_type": "stream",
     "text": [
      "[(-100000000, 10), (0, 20)]\n"
     ]
    }
   ],
   "source": [
    "array = [(0, 20), (-100_000_000, 10), (30, 40)]\n",
    "array.sort()\n",
    "print(array[:-1])"
   ]
  }
 ],
 "metadata": {
  "kernelspec": {
   "display_name": "CodeWars",
   "language": "python",
   "name": "python3"
  },
  "language_info": {
   "codemirror_mode": {
    "name": "ipython",
    "version": 3
   },
   "file_extension": ".py",
   "mimetype": "text/x-python",
   "name": "python",
   "nbconvert_exporter": "python",
   "pygments_lexer": "ipython3",
   "version": "3.13.3"
  }
 },
 "nbformat": 4,
 "nbformat_minor": 5
}
