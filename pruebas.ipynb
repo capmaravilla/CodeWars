{
 "cells": [
  {
   "cell_type": "code",
   "execution_count": null,
   "id": "2e6e546c",
   "metadata": {},
   "outputs": [],
   "source": []
  }
 ],
 "metadata": {
  "kernelspec": {
   "display_name": "codewars",
   "language": "python",
   "name": "python3"
  },
  "language_info": {
   "name": "python",
   "version": "3.13.4"
  }
 },
 "nbformat": 4,
 "nbformat_minor": 5
}
