{
 "cells": [
  {
   "cell_type": "markdown",
   "id": "b74a7e5e",
   "metadata": {},
   "source": [
    "Range extraction\n",
    "https://www.codewars.com/kata/51ba717bb08c1cd60f00002f/train/python"
   ]
  },
  {
   "cell_type": "code",
   "execution_count": 1,
   "id": "364b5b99",
   "metadata": {},
   "outputs": [
    {
     "name": "stdout",
     "output_type": "stream",
     "text": [
      "[-6]\n"
     ]
    }
   ],
   "source": [
    "def solution(args):\n",
    "    sample = [args[0]]\n",
    "    for i in args:\n",
    "        pass\n",
    "    return sample\n",
    "\n",
    "print(solution([-6,-3,-2,-1,0,1,3,4,5,7,8,9,10,11,14,15,17,18,19,20]))\n",
    "# -6,-3-1,3-5,7-11,14,15,17-20\n",
    "#([-3,-2,-1,2,10,15,16,18,19,20]), '-3--1,2,10,15,16,18-20')"
   ]
  }
 ],
 "metadata": {
  "kernelspec": {
   "display_name": "Python 3",
   "language": "python",
   "name": "python3"
  },
  "language_info": {
   "codemirror_mode": {
    "name": "ipython",
    "version": 3
   },
   "file_extension": ".py",
   "mimetype": "text/x-python",
   "name": "python",
   "nbconvert_exporter": "python",
   "pygments_lexer": "ipython3",
   "version": "3.13.3"
  }
 },
 "nbformat": 4,
 "nbformat_minor": 5
}
