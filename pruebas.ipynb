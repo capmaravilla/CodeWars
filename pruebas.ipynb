{
 "cells": [
  {
   "cell_type": "code",
   "execution_count": 4,
   "id": "364b5b99",
   "metadata": {},
   "outputs": [
    {
     "name": "stdout",
     "output_type": "stream",
     "text": [
      "['4', '6', '3', '8', '5']\n",
      "3\n",
      "46538\n"
     ]
    }
   ],
   "source": [
    "def next_bigger_number(n):\n",
    "    digits = list(str(n))\n",
    "    print(digits)\n",
    "    i = len(digits) - 2\n",
    "    print(i)\n",
    "    # Paso 1: buscar el primer dígito menor que su siguiente por la derecha\n",
    "    while i >= 0 and digits[i] >= digits[i + 1]:\n",
    "        i -= 1\n",
    "    if i == -1:\n",
    "        return -1  # No hay un número mayor posible\n",
    "    # Paso 2: buscar el menor dígito mayor a digits[i] a la derecha\n",
    "    j = len(digits) - 1\n",
    "    while digits[j] <= digits[i]:\n",
    "        j -= 1\n",
    "    # Paso 3: intercambiar\n",
    "    digits[i], digits[j] = digits[j], digits[i]\n",
    "    # Paso 4: ordenar los dígitos a la derecha de i\n",
    "    digits[i + 1:] = sorted(digits[i + 1:])\n",
    "    return int(''.join(digits))\n",
    "\n",
    "print(next_bigger_number(46385))"
   ]
  }
 ],
 "metadata": {
  "kernelspec": {
   "display_name": "Python 3",
   "language": "python",
   "name": "python3"
  },
  "language_info": {
   "codemirror_mode": {
    "name": "ipython",
    "version": 3
   },
   "file_extension": ".py",
   "mimetype": "text/x-python",
   "name": "python",
   "nbconvert_exporter": "python",
   "pygments_lexer": "ipython3",
   "version": "3.13.3"
  }
 },
 "nbformat": 4,
 "nbformat_minor": 5
}
