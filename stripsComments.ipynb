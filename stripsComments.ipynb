{
 "cells": [
  {
   "cell_type": "code",
   "execution_count": null,
   "id": "08cb553e",
   "metadata": {},
   "outputs": [],
   "source": [
    "def strip_comments(strng, markers):\n",
    "    lines = strng.split(\"\\n\")\n",
    "    for idx, _ in enumerate(lines):\n",
    "        for mark in markers:\n",
    "            if lines[idx].count(mark):\n",
    "                i = lines[idx].find(mark)\n",
    "                if i == 0:\n",
    "                    lines[idx] = \"\"\n",
    "                elif 1 == -1:\n",
    "                    lines[idx] = lines[idx][0:-1].rstrip()\n",
    "                else:\n",
    "                    lines[idx] = lines[idx][0:i].rstrip()\n",
    "\n",
    "    return \"\\n\".join(lines)\n",
    "\n",
    "\n",
    "# print(\n",
    "#     strip_comments(\n",
    "#         \", pears watermelons bananas apples @\\ncherries @\\n! bananas pears\\npears watermelons\",\n",
    "#         [\"?\", \",\", \"!\", \"@\"],\n",
    "#     )\n",
    "# )"
   ]
  },
  {
   "cell_type": "code",
   "execution_count": null,
   "id": "0a43b5ed",
   "metadata": {},
   "outputs": [],
   "source": [
    "def strip_comments00(string, markers):\n",
    "    parts = string.split(\"\\n\")\n",
    "    for s in markers:\n",
    "        for i, val in enumerate(parts):\n",
    "            parts[i] = val.split(s)[0]\n",
    "\n",
    "    return \"\\n\".join(parts)"
   ]
  },
  {
   "cell_type": "code",
   "execution_count": null,
   "id": "02934b74",
   "metadata": {},
   "outputs": [],
   "source": [
    "def strip_comments1(string, markers):\n",
    "    parts = string.split(\"\\n\")\n",
    "    for s in markers:\n",
    "        parts = [v.split(s)[0].rstrip() for v in parts]\n",
    "    return \"\\n\".join(parts)"
   ]
  },
  {
   "cell_type": "code",
   "execution_count": 83,
   "id": "8a118dfd",
   "metadata": {},
   "outputs": [
    {
     "name": "stdout",
     "output_type": "stream",
     "text": [
      "\n",
      "cherries \n",
      "\n",
      "pears watermelons\n"
     ]
    }
   ],
   "source": [
    "print(\n",
    "    strip_comments00(\n",
    "        \", pears watermelons bananas apples @\\ncherries @\\n! bananas pears\\npears watermelons\",\n",
    "        [\"?\", \",\", \"!\", \"@\"],\n",
    "    )\n",
    ")"
   ]
  },
  {
   "cell_type": "code",
   "execution_count": 37,
   "id": "84ca9bad",
   "metadata": {},
   "outputs": [
    {
     "name": "stdout",
     "output_type": "stream",
     "text": [
      "55\n"
     ]
    }
   ],
   "source": [
    "def fibonacci(n):\n",
    "    if n < 2:\n",
    "        return n\n",
    "    return fibonacci(n - 2) + fibonacci(n - 1)\n",
    "\n",
    "\n",
    "print(fibonacci(10))"
   ]
  },
  {
   "cell_type": "code",
   "execution_count": 38,
   "id": "ce063efb",
   "metadata": {},
   "outputs": [
    {
     "name": "stdout",
     "output_type": "stream",
     "text": [
      "55\n"
     ]
    }
   ],
   "source": [
    "def fibonacci_ver2(n):\n",
    "    fib = [0, 1]\n",
    "    for _ in range(2, n + 1):\n",
    "        fib.append(fib[-1] + fib[-2])\n",
    "    return fib[n]\n",
    "\n",
    "\n",
    "print(fibonacci_ver2(10))"
   ]
  }
 ],
 "metadata": {
  "kernelspec": {
   "display_name": "codewars",
   "language": "python",
   "name": "python3"
  },
  "language_info": {
   "codemirror_mode": {
    "name": "ipython",
    "version": 3
   },
   "file_extension": ".py",
   "mimetype": "text/x-python",
   "name": "python",
   "nbconvert_exporter": "python",
   "pygments_lexer": "ipython3",
   "version": "3.13.4"
  }
 },
 "nbformat": 4,
 "nbformat_minor": 5
}
